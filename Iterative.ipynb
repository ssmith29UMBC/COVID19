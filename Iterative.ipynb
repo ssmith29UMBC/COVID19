{
 "cells": [
  {
   "cell_type": "markdown",
   "metadata": {},
   "source": [
    "This notebook takes 1 March - 31 October. It uses 4 weeks of data to predict the next 2 weeks"
   ]
  },
  {
   "cell_type": "code",
   "execution_count": 1,
   "metadata": {},
   "outputs": [],
   "source": [
    "import numpy as np\n",
    "import matplotlib.pylab as plt\n",
    "from pandas import read_csv\n",
    "import matplotlib.pyplot\n",
    "import pandas as pd\n",
    "from sklearn import preprocessing\n",
    "from sklearn.model_selection import train_test_split\n",
    "from sklearn.neural_network import MLPRegressor\n",
    "from sklearn.datasets import make_regression\n",
    "from sklearn.metrics import mean_absolute_error\n",
    "from sklearn.metrics import mean_squared_error\n",
    "from datetime import date, timedelta\n",
    "from sklearn.metrics import r2_score"
   ]
  },
  {
   "cell_type": "code",
   "execution_count": 2,
   "metadata": {},
   "outputs": [],
   "source": [
    "cases = pd.read_csv(\"time_series_covid19_confirmed_US.csv\")\n",
    "deaths  = pd.read_csv(\"time_series_covid19_deaths_US.csv\")\n",
    "density = pd.read_csv(\"popden.csv\")"
   ]
  },
  {
   "cell_type": "code",
   "execution_count": 3,
   "metadata": {},
   "outputs": [],
   "source": [
    "fips = cases[(cases['10/31/20']<10000)]\n",
    "fips = fips[(fips['10/31/20']>1000)]\n",
    "\n",
    "f = fips['FIPS'].tolist()\n",
    "cases = cases[cases['FIPS'].isin(f)]\n",
    "deaths = deaths[deaths['FIPS'].isin(f)]"
   ]
  },
  {
   "cell_type": "code",
   "execution_count": 4,
   "metadata": {},
   "outputs": [
    {
     "data": {
      "text/html": [
       "<div>\n",
       "<style scoped>\n",
       "    .dataframe tbody tr th:only-of-type {\n",
       "        vertical-align: middle;\n",
       "    }\n",
       "\n",
       "    .dataframe tbody tr th {\n",
       "        vertical-align: top;\n",
       "    }\n",
       "\n",
       "    .dataframe thead th {\n",
       "        text-align: right;\n",
       "    }\n",
       "</style>\n",
       "<table border=\"1\" class=\"dataframe\">\n",
       "  <thead>\n",
       "    <tr style=\"text-align: right;\">\n",
       "      <th></th>\n",
       "      <th>UID</th>\n",
       "      <th>iso2</th>\n",
       "      <th>iso3</th>\n",
       "      <th>code3</th>\n",
       "      <th>FIPS</th>\n",
       "      <th>Admin2</th>\n",
       "      <th>Province_State</th>\n",
       "      <th>Country_Region</th>\n",
       "      <th>Lat</th>\n",
       "      <th>Long_</th>\n",
       "      <th>...</th>\n",
       "      <th>2/15/21</th>\n",
       "      <th>2/16/21</th>\n",
       "      <th>2/17/21</th>\n",
       "      <th>2/18/21</th>\n",
       "      <th>2/19/21</th>\n",
       "      <th>2/20/21</th>\n",
       "      <th>2/21/21</th>\n",
       "      <th>2/22/21</th>\n",
       "      <th>2/23/21</th>\n",
       "      <th>2/24/21</th>\n",
       "    </tr>\n",
       "  </thead>\n",
       "  <tbody>\n",
       "    <tr>\n",
       "      <th>0</th>\n",
       "      <td>84001001</td>\n",
       "      <td>US</td>\n",
       "      <td>USA</td>\n",
       "      <td>840</td>\n",
       "      <td>1001.0</td>\n",
       "      <td>Autauga</td>\n",
       "      <td>Alabama</td>\n",
       "      <td>US</td>\n",
       "      <td>32.539527</td>\n",
       "      <td>-86.644082</td>\n",
       "      <td>...</td>\n",
       "      <td>6024</td>\n",
       "      <td>6038</td>\n",
       "      <td>6050</td>\n",
       "      <td>6071</td>\n",
       "      <td>6079</td>\n",
       "      <td>6092</td>\n",
       "      <td>6117</td>\n",
       "      <td>6121</td>\n",
       "      <td>6143</td>\n",
       "      <td>6172</td>\n",
       "    </tr>\n",
       "    <tr>\n",
       "      <th>1</th>\n",
       "      <td>84001003</td>\n",
       "      <td>US</td>\n",
       "      <td>USA</td>\n",
       "      <td>840</td>\n",
       "      <td>1003.0</td>\n",
       "      <td>Baldwin</td>\n",
       "      <td>Alabama</td>\n",
       "      <td>US</td>\n",
       "      <td>30.727750</td>\n",
       "      <td>-87.722071</td>\n",
       "      <td>...</td>\n",
       "      <td>19136</td>\n",
       "      <td>19176</td>\n",
       "      <td>19267</td>\n",
       "      <td>19324</td>\n",
       "      <td>19361</td>\n",
       "      <td>19392</td>\n",
       "      <td>19433</td>\n",
       "      <td>19461</td>\n",
       "      <td>19554</td>\n",
       "      <td>19635</td>\n",
       "    </tr>\n",
       "    <tr>\n",
       "      <th>2</th>\n",
       "      <td>84001005</td>\n",
       "      <td>US</td>\n",
       "      <td>USA</td>\n",
       "      <td>840</td>\n",
       "      <td>1005.0</td>\n",
       "      <td>Barbour</td>\n",
       "      <td>Alabama</td>\n",
       "      <td>US</td>\n",
       "      <td>31.868263</td>\n",
       "      <td>-85.387129</td>\n",
       "      <td>...</td>\n",
       "      <td>2044</td>\n",
       "      <td>2055</td>\n",
       "      <td>2053</td>\n",
       "      <td>2057</td>\n",
       "      <td>2061</td>\n",
       "      <td>2067</td>\n",
       "      <td>2070</td>\n",
       "      <td>2074</td>\n",
       "      <td>2084</td>\n",
       "      <td>2095</td>\n",
       "    </tr>\n",
       "    <tr>\n",
       "      <th>4</th>\n",
       "      <td>84001009</td>\n",
       "      <td>US</td>\n",
       "      <td>USA</td>\n",
       "      <td>840</td>\n",
       "      <td>1009.0</td>\n",
       "      <td>Blount</td>\n",
       "      <td>Alabama</td>\n",
       "      <td>US</td>\n",
       "      <td>33.982109</td>\n",
       "      <td>-86.567906</td>\n",
       "      <td>...</td>\n",
       "      <td>5973</td>\n",
       "      <td>5987</td>\n",
       "      <td>5997</td>\n",
       "      <td>6008</td>\n",
       "      <td>6021</td>\n",
       "      <td>6040</td>\n",
       "      <td>6042</td>\n",
       "      <td>6043</td>\n",
       "      <td>6058</td>\n",
       "      <td>6072</td>\n",
       "    </tr>\n",
       "    <tr>\n",
       "      <th>6</th>\n",
       "      <td>84001013</td>\n",
       "      <td>US</td>\n",
       "      <td>USA</td>\n",
       "      <td>840</td>\n",
       "      <td>1013.0</td>\n",
       "      <td>Butler</td>\n",
       "      <td>Alabama</td>\n",
       "      <td>US</td>\n",
       "      <td>31.753001</td>\n",
       "      <td>-86.680575</td>\n",
       "      <td>...</td>\n",
       "      <td>1905</td>\n",
       "      <td>1910</td>\n",
       "      <td>1924</td>\n",
       "      <td>1930</td>\n",
       "      <td>1934</td>\n",
       "      <td>1938</td>\n",
       "      <td>1940</td>\n",
       "      <td>1945</td>\n",
       "      <td>1948</td>\n",
       "      <td>1951</td>\n",
       "    </tr>\n",
       "    <tr>\n",
       "      <th>...</th>\n",
       "      <td>...</td>\n",
       "      <td>...</td>\n",
       "      <td>...</td>\n",
       "      <td>...</td>\n",
       "      <td>...</td>\n",
       "      <td>...</td>\n",
       "      <td>...</td>\n",
       "      <td>...</td>\n",
       "      <td>...</td>\n",
       "      <td>...</td>\n",
       "      <td>...</td>\n",
       "      <td>...</td>\n",
       "      <td>...</td>\n",
       "      <td>...</td>\n",
       "      <td>...</td>\n",
       "      <td>...</td>\n",
       "      <td>...</td>\n",
       "      <td>...</td>\n",
       "      <td>...</td>\n",
       "      <td>...</td>\n",
       "      <td>...</td>\n",
       "    </tr>\n",
       "    <tr>\n",
       "      <th>3315</th>\n",
       "      <td>84056001</td>\n",
       "      <td>US</td>\n",
       "      <td>USA</td>\n",
       "      <td>840</td>\n",
       "      <td>56001.0</td>\n",
       "      <td>Albany</td>\n",
       "      <td>Wyoming</td>\n",
       "      <td>US</td>\n",
       "      <td>41.654987</td>\n",
       "      <td>-105.723542</td>\n",
       "      <td>...</td>\n",
       "      <td>3854</td>\n",
       "      <td>3867</td>\n",
       "      <td>3871</td>\n",
       "      <td>3871</td>\n",
       "      <td>3880</td>\n",
       "      <td>3880</td>\n",
       "      <td>3887</td>\n",
       "      <td>3893</td>\n",
       "      <td>3892</td>\n",
       "      <td>3893</td>\n",
       "    </tr>\n",
       "    <tr>\n",
       "      <th>3317</th>\n",
       "      <td>84056005</td>\n",
       "      <td>US</td>\n",
       "      <td>USA</td>\n",
       "      <td>840</td>\n",
       "      <td>56005.0</td>\n",
       "      <td>Campbell</td>\n",
       "      <td>Wyoming</td>\n",
       "      <td>US</td>\n",
       "      <td>44.248861</td>\n",
       "      <td>-105.547440</td>\n",
       "      <td>...</td>\n",
       "      <td>4634</td>\n",
       "      <td>4639</td>\n",
       "      <td>4643</td>\n",
       "      <td>4643</td>\n",
       "      <td>4646</td>\n",
       "      <td>4646</td>\n",
       "      <td>4647</td>\n",
       "      <td>4649</td>\n",
       "      <td>4652</td>\n",
       "      <td>4655</td>\n",
       "    </tr>\n",
       "    <tr>\n",
       "      <th>3321</th>\n",
       "      <td>84056013</td>\n",
       "      <td>US</td>\n",
       "      <td>USA</td>\n",
       "      <td>840</td>\n",
       "      <td>56013.0</td>\n",
       "      <td>Fremont</td>\n",
       "      <td>Wyoming</td>\n",
       "      <td>US</td>\n",
       "      <td>43.041840</td>\n",
       "      <td>-108.629689</td>\n",
       "      <td>...</td>\n",
       "      <td>4683</td>\n",
       "      <td>4718</td>\n",
       "      <td>4743</td>\n",
       "      <td>4754</td>\n",
       "      <td>4764</td>\n",
       "      <td>4764</td>\n",
       "      <td>4792</td>\n",
       "      <td>4810</td>\n",
       "      <td>4816</td>\n",
       "      <td>4825</td>\n",
       "    </tr>\n",
       "    <tr>\n",
       "      <th>3325</th>\n",
       "      <td>84056021</td>\n",
       "      <td>US</td>\n",
       "      <td>USA</td>\n",
       "      <td>840</td>\n",
       "      <td>56021.0</td>\n",
       "      <td>Laramie</td>\n",
       "      <td>Wyoming</td>\n",
       "      <td>US</td>\n",
       "      <td>41.307025</td>\n",
       "      <td>-104.688750</td>\n",
       "      <td>...</td>\n",
       "      <td>8068</td>\n",
       "      <td>8098</td>\n",
       "      <td>8109</td>\n",
       "      <td>8116</td>\n",
       "      <td>8122</td>\n",
       "      <td>8122</td>\n",
       "      <td>8126</td>\n",
       "      <td>8135</td>\n",
       "      <td>8141</td>\n",
       "      <td>8145</td>\n",
       "    </tr>\n",
       "    <tr>\n",
       "      <th>3327</th>\n",
       "      <td>84056025</td>\n",
       "      <td>US</td>\n",
       "      <td>USA</td>\n",
       "      <td>840</td>\n",
       "      <td>56025.0</td>\n",
       "      <td>Natrona</td>\n",
       "      <td>Wyoming</td>\n",
       "      <td>US</td>\n",
       "      <td>42.961801</td>\n",
       "      <td>-106.797885</td>\n",
       "      <td>...</td>\n",
       "      <td>7614</td>\n",
       "      <td>7632</td>\n",
       "      <td>7640</td>\n",
       "      <td>7646</td>\n",
       "      <td>7658</td>\n",
       "      <td>7658</td>\n",
       "      <td>7669</td>\n",
       "      <td>7674</td>\n",
       "      <td>7678</td>\n",
       "      <td>7684</td>\n",
       "    </tr>\n",
       "  </tbody>\n",
       "</table>\n",
       "<p>1055 rows × 411 columns</p>\n",
       "</div>"
      ],
      "text/plain": [
       "           UID iso2 iso3  code3     FIPS    Admin2 Province_State  \\\n",
       "0     84001001   US  USA    840   1001.0   Autauga        Alabama   \n",
       "1     84001003   US  USA    840   1003.0   Baldwin        Alabama   \n",
       "2     84001005   US  USA    840   1005.0   Barbour        Alabama   \n",
       "4     84001009   US  USA    840   1009.0    Blount        Alabama   \n",
       "6     84001013   US  USA    840   1013.0    Butler        Alabama   \n",
       "...        ...  ...  ...    ...      ...       ...            ...   \n",
       "3315  84056001   US  USA    840  56001.0    Albany        Wyoming   \n",
       "3317  84056005   US  USA    840  56005.0  Campbell        Wyoming   \n",
       "3321  84056013   US  USA    840  56013.0   Fremont        Wyoming   \n",
       "3325  84056021   US  USA    840  56021.0   Laramie        Wyoming   \n",
       "3327  84056025   US  USA    840  56025.0   Natrona        Wyoming   \n",
       "\n",
       "     Country_Region        Lat       Long_  ... 2/15/21  2/16/21  2/17/21  \\\n",
       "0                US  32.539527  -86.644082  ...    6024     6038     6050   \n",
       "1                US  30.727750  -87.722071  ...   19136    19176    19267   \n",
       "2                US  31.868263  -85.387129  ...    2044     2055     2053   \n",
       "4                US  33.982109  -86.567906  ...    5973     5987     5997   \n",
       "6                US  31.753001  -86.680575  ...    1905     1910     1924   \n",
       "...             ...        ...         ...  ...     ...      ...      ...   \n",
       "3315             US  41.654987 -105.723542  ...    3854     3867     3871   \n",
       "3317             US  44.248861 -105.547440  ...    4634     4639     4643   \n",
       "3321             US  43.041840 -108.629689  ...    4683     4718     4743   \n",
       "3325             US  41.307025 -104.688750  ...    8068     8098     8109   \n",
       "3327             US  42.961801 -106.797885  ...    7614     7632     7640   \n",
       "\n",
       "      2/18/21  2/19/21  2/20/21  2/21/21  2/22/21  2/23/21  2/24/21  \n",
       "0        6071     6079     6092     6117     6121     6143     6172  \n",
       "1       19324    19361    19392    19433    19461    19554    19635  \n",
       "2        2057     2061     2067     2070     2074     2084     2095  \n",
       "4        6008     6021     6040     6042     6043     6058     6072  \n",
       "6        1930     1934     1938     1940     1945     1948     1951  \n",
       "...       ...      ...      ...      ...      ...      ...      ...  \n",
       "3315     3871     3880     3880     3887     3893     3892     3893  \n",
       "3317     4643     4646     4646     4647     4649     4652     4655  \n",
       "3321     4754     4764     4764     4792     4810     4816     4825  \n",
       "3325     8116     8122     8122     8126     8135     8141     8145  \n",
       "3327     7646     7658     7658     7669     7674     7678     7684  \n",
       "\n",
       "[1055 rows x 411 columns]"
      ]
     },
     "execution_count": 4,
     "metadata": {},
     "output_type": "execute_result"
    }
   ],
   "source": [
    "cases"
   ]
  },
  {
   "cell_type": "code",
   "execution_count": 5,
   "metadata": {},
   "outputs": [],
   "source": [
    "density.drop_duplicates(subset=['fips'],keep='last',inplace=True)\n",
    "\n",
    "strings = {'NMR','PR','VI','KSC','NYC'}\n",
    "index_names = density[(density['fips']).isin(strings)].index\n",
    "density.drop(index_names, inplace=True)\n",
    "\n",
    "density['fips']=density['fips'].astype(float)"
   ]
  },
  {
   "cell_type": "code",
   "execution_count": 6,
   "metadata": {},
   "outputs": [],
   "source": [
    "c = pd.merge(cases,density, left_on='FIPS',right_on='fips')\n",
    "d = pd.merge(deaths,density, left_on='FIPS',right_on='fips')"
   ]
  },
  {
   "cell_type": "code",
   "execution_count": 7,
   "metadata": {},
   "outputs": [],
   "source": [
    "col = {'UID','iso2','iso3','code3','FIPS','Admin2','Province_State','Country_Region','Lat','Long_','Combined_Key','date','county','state','fips','cases','deaths','stay_at_home_announced','stay_at_home_effective','lat','lon','total_population','area_sqmi'}\n",
    "c.drop(c.columns[c.columns.isin(col)],axis=1,inplace=True)\n",
    "d.drop(d.columns[d.columns.isin(col)],axis=1,inplace=True)"
   ]
  },
  {
   "cell_type": "code",
   "execution_count": 8,
   "metadata": {},
   "outputs": [],
   "source": [
    "from sklearn.preprocessing import minmax_scale\n",
    "d['population_density_per_sqmi']=minmax_scale(d['population_density_per_sqmi'])\n",
    "c['population_density_per_sqmi']=minmax_scale(c['population_density_per_sqmi'])"
   ]
  },
  {
   "cell_type": "code",
   "execution_count": 9,
   "metadata": {},
   "outputs": [
    {
     "data": {
      "text/html": [
       "<div>\n",
       "<style scoped>\n",
       "    .dataframe tbody tr th:only-of-type {\n",
       "        vertical-align: middle;\n",
       "    }\n",
       "\n",
       "    .dataframe tbody tr th {\n",
       "        vertical-align: top;\n",
       "    }\n",
       "\n",
       "    .dataframe thead th {\n",
       "        text-align: right;\n",
       "    }\n",
       "</style>\n",
       "<table border=\"1\" class=\"dataframe\">\n",
       "  <thead>\n",
       "    <tr style=\"text-align: right;\">\n",
       "      <th></th>\n",
       "      <th>1/22/20</th>\n",
       "      <th>1/23/20</th>\n",
       "      <th>1/24/20</th>\n",
       "      <th>1/25/20</th>\n",
       "      <th>1/26/20</th>\n",
       "      <th>1/27/20</th>\n",
       "      <th>1/28/20</th>\n",
       "      <th>1/29/20</th>\n",
       "      <th>1/30/20</th>\n",
       "      <th>1/31/20</th>\n",
       "      <th>...</th>\n",
       "      <th>2/16/21</th>\n",
       "      <th>2/17/21</th>\n",
       "      <th>2/18/21</th>\n",
       "      <th>2/19/21</th>\n",
       "      <th>2/20/21</th>\n",
       "      <th>2/21/21</th>\n",
       "      <th>2/22/21</th>\n",
       "      <th>2/23/21</th>\n",
       "      <th>2/24/21</th>\n",
       "      <th>population_density_per_sqmi</th>\n",
       "    </tr>\n",
       "  </thead>\n",
       "  <tbody>\n",
       "    <tr>\n",
       "      <th>0</th>\n",
       "      <td>0</td>\n",
       "      <td>0</td>\n",
       "      <td>0</td>\n",
       "      <td>0</td>\n",
       "      <td>0</td>\n",
       "      <td>0</td>\n",
       "      <td>0</td>\n",
       "      <td>0</td>\n",
       "      <td>0</td>\n",
       "      <td>0</td>\n",
       "      <td>...</td>\n",
       "      <td>6038</td>\n",
       "      <td>6050</td>\n",
       "      <td>6071</td>\n",
       "      <td>6079</td>\n",
       "      <td>6092</td>\n",
       "      <td>6117</td>\n",
       "      <td>6121</td>\n",
       "      <td>6143</td>\n",
       "      <td>6172</td>\n",
       "      <td>0.008940</td>\n",
       "    </tr>\n",
       "    <tr>\n",
       "      <th>1</th>\n",
       "      <td>0</td>\n",
       "      <td>0</td>\n",
       "      <td>0</td>\n",
       "      <td>0</td>\n",
       "      <td>0</td>\n",
       "      <td>0</td>\n",
       "      <td>0</td>\n",
       "      <td>0</td>\n",
       "      <td>0</td>\n",
       "      <td>0</td>\n",
       "      <td>...</td>\n",
       "      <td>19176</td>\n",
       "      <td>19267</td>\n",
       "      <td>19324</td>\n",
       "      <td>19361</td>\n",
       "      <td>19392</td>\n",
       "      <td>19433</td>\n",
       "      <td>19461</td>\n",
       "      <td>19554</td>\n",
       "      <td>19635</td>\n",
       "      <td>0.012209</td>\n",
       "    </tr>\n",
       "    <tr>\n",
       "      <th>2</th>\n",
       "      <td>0</td>\n",
       "      <td>0</td>\n",
       "      <td>0</td>\n",
       "      <td>0</td>\n",
       "      <td>0</td>\n",
       "      <td>0</td>\n",
       "      <td>0</td>\n",
       "      <td>0</td>\n",
       "      <td>0</td>\n",
       "      <td>0</td>\n",
       "      <td>...</td>\n",
       "      <td>2055</td>\n",
       "      <td>2053</td>\n",
       "      <td>2057</td>\n",
       "      <td>2061</td>\n",
       "      <td>2067</td>\n",
       "      <td>2070</td>\n",
       "      <td>2074</td>\n",
       "      <td>2084</td>\n",
       "      <td>2095</td>\n",
       "      <td>0.002726</td>\n",
       "    </tr>\n",
       "    <tr>\n",
       "      <th>3</th>\n",
       "      <td>0</td>\n",
       "      <td>0</td>\n",
       "      <td>0</td>\n",
       "      <td>0</td>\n",
       "      <td>0</td>\n",
       "      <td>0</td>\n",
       "      <td>0</td>\n",
       "      <td>0</td>\n",
       "      <td>0</td>\n",
       "      <td>0</td>\n",
       "      <td>...</td>\n",
       "      <td>5987</td>\n",
       "      <td>5997</td>\n",
       "      <td>6008</td>\n",
       "      <td>6021</td>\n",
       "      <td>6040</td>\n",
       "      <td>6042</td>\n",
       "      <td>6043</td>\n",
       "      <td>6058</td>\n",
       "      <td>6072</td>\n",
       "      <td>0.008631</td>\n",
       "    </tr>\n",
       "    <tr>\n",
       "      <th>4</th>\n",
       "      <td>0</td>\n",
       "      <td>0</td>\n",
       "      <td>0</td>\n",
       "      <td>0</td>\n",
       "      <td>0</td>\n",
       "      <td>0</td>\n",
       "      <td>0</td>\n",
       "      <td>0</td>\n",
       "      <td>0</td>\n",
       "      <td>0</td>\n",
       "      <td>...</td>\n",
       "      <td>1910</td>\n",
       "      <td>1924</td>\n",
       "      <td>1930</td>\n",
       "      <td>1934</td>\n",
       "      <td>1938</td>\n",
       "      <td>1940</td>\n",
       "      <td>1945</td>\n",
       "      <td>1948</td>\n",
       "      <td>1951</td>\n",
       "      <td>0.002332</td>\n",
       "    </tr>\n",
       "    <tr>\n",
       "      <th>...</th>\n",
       "      <td>...</td>\n",
       "      <td>...</td>\n",
       "      <td>...</td>\n",
       "      <td>...</td>\n",
       "      <td>...</td>\n",
       "      <td>...</td>\n",
       "      <td>...</td>\n",
       "      <td>...</td>\n",
       "      <td>...</td>\n",
       "      <td>...</td>\n",
       "      <td>...</td>\n",
       "      <td>...</td>\n",
       "      <td>...</td>\n",
       "      <td>...</td>\n",
       "      <td>...</td>\n",
       "      <td>...</td>\n",
       "      <td>...</td>\n",
       "      <td>...</td>\n",
       "      <td>...</td>\n",
       "      <td>...</td>\n",
       "      <td>...</td>\n",
       "    </tr>\n",
       "    <tr>\n",
       "      <th>1032</th>\n",
       "      <td>0</td>\n",
       "      <td>0</td>\n",
       "      <td>0</td>\n",
       "      <td>0</td>\n",
       "      <td>0</td>\n",
       "      <td>0</td>\n",
       "      <td>0</td>\n",
       "      <td>0</td>\n",
       "      <td>0</td>\n",
       "      <td>0</td>\n",
       "      <td>...</td>\n",
       "      <td>3867</td>\n",
       "      <td>3871</td>\n",
       "      <td>3871</td>\n",
       "      <td>3880</td>\n",
       "      <td>3880</td>\n",
       "      <td>3887</td>\n",
       "      <td>3893</td>\n",
       "      <td>3892</td>\n",
       "      <td>3893</td>\n",
       "      <td>0.000617</td>\n",
       "    </tr>\n",
       "    <tr>\n",
       "      <th>1033</th>\n",
       "      <td>0</td>\n",
       "      <td>0</td>\n",
       "      <td>0</td>\n",
       "      <td>0</td>\n",
       "      <td>0</td>\n",
       "      <td>0</td>\n",
       "      <td>0</td>\n",
       "      <td>0</td>\n",
       "      <td>0</td>\n",
       "      <td>0</td>\n",
       "      <td>...</td>\n",
       "      <td>4639</td>\n",
       "      <td>4643</td>\n",
       "      <td>4643</td>\n",
       "      <td>4646</td>\n",
       "      <td>4646</td>\n",
       "      <td>4647</td>\n",
       "      <td>4649</td>\n",
       "      <td>4652</td>\n",
       "      <td>4655</td>\n",
       "      <td>0.000740</td>\n",
       "    </tr>\n",
       "    <tr>\n",
       "      <th>1034</th>\n",
       "      <td>0</td>\n",
       "      <td>0</td>\n",
       "      <td>0</td>\n",
       "      <td>0</td>\n",
       "      <td>0</td>\n",
       "      <td>0</td>\n",
       "      <td>0</td>\n",
       "      <td>0</td>\n",
       "      <td>0</td>\n",
       "      <td>0</td>\n",
       "      <td>...</td>\n",
       "      <td>4718</td>\n",
       "      <td>4743</td>\n",
       "      <td>4754</td>\n",
       "      <td>4764</td>\n",
       "      <td>4764</td>\n",
       "      <td>4792</td>\n",
       "      <td>4810</td>\n",
       "      <td>4816</td>\n",
       "      <td>4825</td>\n",
       "      <td>0.000177</td>\n",
       "    </tr>\n",
       "    <tr>\n",
       "      <th>1035</th>\n",
       "      <td>0</td>\n",
       "      <td>0</td>\n",
       "      <td>0</td>\n",
       "      <td>0</td>\n",
       "      <td>0</td>\n",
       "      <td>0</td>\n",
       "      <td>0</td>\n",
       "      <td>0</td>\n",
       "      <td>0</td>\n",
       "      <td>0</td>\n",
       "      <td>...</td>\n",
       "      <td>8098</td>\n",
       "      <td>8109</td>\n",
       "      <td>8116</td>\n",
       "      <td>8122</td>\n",
       "      <td>8122</td>\n",
       "      <td>8126</td>\n",
       "      <td>8135</td>\n",
       "      <td>8141</td>\n",
       "      <td>8145</td>\n",
       "      <td>0.003306</td>\n",
       "    </tr>\n",
       "    <tr>\n",
       "      <th>1036</th>\n",
       "      <td>0</td>\n",
       "      <td>0</td>\n",
       "      <td>0</td>\n",
       "      <td>0</td>\n",
       "      <td>0</td>\n",
       "      <td>0</td>\n",
       "      <td>0</td>\n",
       "      <td>0</td>\n",
       "      <td>0</td>\n",
       "      <td>0</td>\n",
       "      <td>...</td>\n",
       "      <td>7632</td>\n",
       "      <td>7640</td>\n",
       "      <td>7646</td>\n",
       "      <td>7658</td>\n",
       "      <td>7658</td>\n",
       "      <td>7669</td>\n",
       "      <td>7674</td>\n",
       "      <td>7678</td>\n",
       "      <td>7684</td>\n",
       "      <td>0.001242</td>\n",
       "    </tr>\n",
       "  </tbody>\n",
       "</table>\n",
       "<p>1037 rows × 401 columns</p>\n",
       "</div>"
      ],
      "text/plain": [
       "      1/22/20  1/23/20  1/24/20  1/25/20  1/26/20  1/27/20  1/28/20  1/29/20  \\\n",
       "0           0        0        0        0        0        0        0        0   \n",
       "1           0        0        0        0        0        0        0        0   \n",
       "2           0        0        0        0        0        0        0        0   \n",
       "3           0        0        0        0        0        0        0        0   \n",
       "4           0        0        0        0        0        0        0        0   \n",
       "...       ...      ...      ...      ...      ...      ...      ...      ...   \n",
       "1032        0        0        0        0        0        0        0        0   \n",
       "1033        0        0        0        0        0        0        0        0   \n",
       "1034        0        0        0        0        0        0        0        0   \n",
       "1035        0        0        0        0        0        0        0        0   \n",
       "1036        0        0        0        0        0        0        0        0   \n",
       "\n",
       "      1/30/20  1/31/20  ...  2/16/21  2/17/21  2/18/21  2/19/21  2/20/21  \\\n",
       "0           0        0  ...     6038     6050     6071     6079     6092   \n",
       "1           0        0  ...    19176    19267    19324    19361    19392   \n",
       "2           0        0  ...     2055     2053     2057     2061     2067   \n",
       "3           0        0  ...     5987     5997     6008     6021     6040   \n",
       "4           0        0  ...     1910     1924     1930     1934     1938   \n",
       "...       ...      ...  ...      ...      ...      ...      ...      ...   \n",
       "1032        0        0  ...     3867     3871     3871     3880     3880   \n",
       "1033        0        0  ...     4639     4643     4643     4646     4646   \n",
       "1034        0        0  ...     4718     4743     4754     4764     4764   \n",
       "1035        0        0  ...     8098     8109     8116     8122     8122   \n",
       "1036        0        0  ...     7632     7640     7646     7658     7658   \n",
       "\n",
       "      2/21/21  2/22/21  2/23/21  2/24/21  population_density_per_sqmi  \n",
       "0        6117     6121     6143     6172                     0.008940  \n",
       "1       19433    19461    19554    19635                     0.012209  \n",
       "2        2070     2074     2084     2095                     0.002726  \n",
       "3        6042     6043     6058     6072                     0.008631  \n",
       "4        1940     1945     1948     1951                     0.002332  \n",
       "...       ...      ...      ...      ...                          ...  \n",
       "1032     3887     3893     3892     3893                     0.000617  \n",
       "1033     4647     4649     4652     4655                     0.000740  \n",
       "1034     4792     4810     4816     4825                     0.000177  \n",
       "1035     8126     8135     8141     8145                     0.003306  \n",
       "1036     7669     7674     7678     7684                     0.001242  \n",
       "\n",
       "[1037 rows x 401 columns]"
      ]
     },
     "execution_count": 9,
     "metadata": {},
     "output_type": "execute_result"
    }
   ],
   "source": [
    "c"
   ]
  },
  {
   "cell_type": "code",
   "execution_count": 10,
   "metadata": {},
   "outputs": [],
   "source": [
    "cases.fillna(0,inplace=True)\n",
    "deaths.fillna(0,inplace=True)\n",
    "\n",
    "deaths_results_MAE = np.zeros(15)\n",
    "cases_results_MAE = np.zeros(15)\n",
    "\n",
    "deaths_results_RMSE = np.zeros(15)\n",
    "cases_results_RMSE = np.zeros(15)\n",
    "\n",
    "deaths_score = np.zeros(15)\n",
    "cases_score = np.zeros(15)"
   ]
  },
  {
   "cell_type": "code",
   "execution_count": 11,
   "metadata": {},
   "outputs": [],
   "source": [
    "x_date = date(2020,3,1)\n",
    "y_date = date(2020,3,29)\n",
    "delta = timedelta(days=14)\n",
    "\n",
    "for j in range (0,15):\n",
    "    \n",
    "    x_days = {'population_density_per_sqmi'}\n",
    "    for i in range(0,28):\n",
    "        s = x_date + timedelta(days=i)\n",
    "        #print(s)\n",
    "        x_days.add(s.strftime(\"%-m/%-d/%y\"))\n",
    "    y_days = {y_date.strftime(\"%-m/%-d/%y\")}\n",
    "    for i in range(1,14):\n",
    "        s = y_date + timedelta(days=i)\n",
    "        #print(s)\n",
    "        y_days.add(s.strftime(\"%-m/%-d/%y\"))\n",
    "       \n",
    "    x = deaths.filter(x_days)\n",
    "    y = deaths.filter(y_days)\n",
    "    \n",
    "    X_train, X_test, y_train, y_test = train_test_split(x,y,test_size=.2,random_state=42)\n",
    "    reg = MLPRegressor(random_state=1, max_iter=1500).fit(X_train,y_train)\n",
    "    deaths_results_MAE[j]=mean_absolute_error(y_test.astype(int),reg.predict(X_test).astype(int))\n",
    "    deaths_results_RMSE[j]=mean_squared_error(y_test.astype(int),reg.predict(X_test).astype(int),squared='False')\n",
    "    deaths_score[j] = r2_score(y_test,reg.predict(X_test))\n",
    "    x_date += delta\n",
    "    y_date += delta"
   ]
  },
  {
   "cell_type": "code",
   "execution_count": 12,
   "metadata": {},
   "outputs": [
    {
     "data": {
      "text/plain": [
       "array([0.94346649, 1.62356127, 1.5169262 , 1.60765064, 1.31956669,\n",
       "       1.36086662, 1.07989167, 1.39167231, 1.85308057, 1.6858497 ,\n",
       "       2.01861882, 1.85477319, 2.05585647, 2.08970887, 2.21563981])"
      ]
     },
     "execution_count": 12,
     "metadata": {},
     "output_type": "execute_result"
    }
   ],
   "source": [
    "deaths_results_MAE"
   ]
  },
  {
   "cell_type": "code",
   "execution_count": 13,
   "metadata": {},
   "outputs": [
    {
     "data": {
      "text/plain": [
       "array([ 7.86425186, 15.11306703, 13.56093433, 12.58192282,  8.11238998,\n",
       "       12.14488829,  5.99052133,  8.84258632, 11.16181449,  8.22207177,\n",
       "       11.96648612, 10.04570074, 12.31245768, 15.03215978, 12.72071767])"
      ]
     },
     "execution_count": 13,
     "metadata": {},
     "output_type": "execute_result"
    }
   ],
   "source": [
    "deaths_results_RMSE"
   ]
  },
  {
   "cell_type": "code",
   "execution_count": 14,
   "metadata": {},
   "outputs": [],
   "source": [
    "x_date = date(2020,3,1)\n",
    "y_date = date(2020,3,29)\n",
    "delta = timedelta(days=14)\n",
    "\n",
    "for j in range (0,15):\n",
    "    \n",
    "    x_days = {'population_density_per_sqmi'}\n",
    "    for i in range(0,28):\n",
    "        s = x_date + timedelta(days=i)\n",
    "        x_days.add(s.strftime(\"%-m/%-d/%y\"))\n",
    "    y_days = {y_date.strftime(\"%-m/%-d/%y\")}\n",
    "    for i in range(1,14):\n",
    "        s = y_date + timedelta(days=i)\n",
    "        y_days.add(s.strftime(\"%-m/%-d/%y\"))\n",
    "       \n",
    "    x = cases.filter(x_days)\n",
    "    y = cases.filter(y_days)\n",
    "    \n",
    "    X_train, X_test, y_train, y_test = train_test_split(x,y,test_size=.2,random_state=42)\n",
    "    reg = MLPRegressor(random_state=1, max_iter=1500).fit(X_train,y_train)\n",
    "    cases_results_MAE[j]=mean_absolute_error(y_test.astype(int),reg.predict(X_test).astype(int))\n",
    "    cases_results_RMSE[j]=mean_squared_error(y_test.astype(int),reg.predict(X_test).astype(int),squared='False')\n",
    "    cases_score[j] = r2_score(y_test,reg.predict(X_test))\n",
    "    x_date += delta\n",
    "    y_date += delta"
   ]
  },
  {
   "cell_type": "code",
   "execution_count": 15,
   "metadata": {},
   "outputs": [
    {
     "data": {
      "text/plain": [
       "array([16.62897766, 22.85985105, 25.95463778, 23.92044685, 28.1831415 ,\n",
       "       28.32125931, 39.08429248, 40.50643196, 54.63744076, 47.53351388,\n",
       "       48.62999323, 57.01150982, 61.647935  , 66.59851049, 72.04976303])"
      ]
     },
     "execution_count": 15,
     "metadata": {},
     "output_type": "execute_result"
    }
   ],
   "source": [
    "cases_results_MAE"
   ]
  },
  {
   "cell_type": "code",
   "execution_count": 43,
   "metadata": {},
   "outputs": [
    {
     "data": {
      "text/html": [
       "<div>\n",
       "<style scoped>\n",
       "    .dataframe tbody tr th:only-of-type {\n",
       "        vertical-align: middle;\n",
       "    }\n",
       "\n",
       "    .dataframe tbody tr th {\n",
       "        vertical-align: top;\n",
       "    }\n",
       "\n",
       "    .dataframe thead th {\n",
       "        text-align: right;\n",
       "    }\n",
       "</style>\n",
       "<table border=\"1\" class=\"dataframe\">\n",
       "  <thead>\n",
       "    <tr style=\"text-align: right;\">\n",
       "      <th></th>\n",
       "      <th>9/22/20</th>\n",
       "      <th>10/6/20</th>\n",
       "      <th>9/23/20</th>\n",
       "      <th>9/14/20</th>\n",
       "      <th>9/15/20</th>\n",
       "      <th>10/8/20</th>\n",
       "      <th>9/27/20</th>\n",
       "      <th>9/13/20</th>\n",
       "      <th>9/21/20</th>\n",
       "      <th>10/3/20</th>\n",
       "      <th>...</th>\n",
       "      <th>9/16/20</th>\n",
       "      <th>9/17/20</th>\n",
       "      <th>9/30/20</th>\n",
       "      <th>9/18/20</th>\n",
       "      <th>9/29/20</th>\n",
       "      <th>10/1/20</th>\n",
       "      <th>10/4/20</th>\n",
       "      <th>10/5/20</th>\n",
       "      <th>10/10/20</th>\n",
       "      <th>9/28/20</th>\n",
       "    </tr>\n",
       "  </thead>\n",
       "  <tbody>\n",
       "    <tr>\n",
       "      <th>942</th>\n",
       "      <td>1011</td>\n",
       "      <td>1191</td>\n",
       "      <td>1011</td>\n",
       "      <td>858</td>\n",
       "      <td>858</td>\n",
       "      <td>1223</td>\n",
       "      <td>1070</td>\n",
       "      <td>858</td>\n",
       "      <td>978</td>\n",
       "      <td>1131</td>\n",
       "      <td>...</td>\n",
       "      <td>858</td>\n",
       "      <td>858</td>\n",
       "      <td>1098</td>\n",
       "      <td>951</td>\n",
       "      <td>1098</td>\n",
       "      <td>1128</td>\n",
       "      <td>1163</td>\n",
       "      <td>1163</td>\n",
       "      <td>1223</td>\n",
       "      <td>1070</td>\n",
       "    </tr>\n",
       "    <tr>\n",
       "      <th>2366</th>\n",
       "      <td>1959</td>\n",
       "      <td>2181</td>\n",
       "      <td>1971</td>\n",
       "      <td>1838</td>\n",
       "      <td>1857</td>\n",
       "      <td>2245</td>\n",
       "      <td>2037</td>\n",
       "      <td>1824</td>\n",
       "      <td>1945</td>\n",
       "      <td>2112</td>\n",
       "      <td>...</td>\n",
       "      <td>1890</td>\n",
       "      <td>1900</td>\n",
       "      <td>2078</td>\n",
       "      <td>1909</td>\n",
       "      <td>2057</td>\n",
       "      <td>2091</td>\n",
       "      <td>2150</td>\n",
       "      <td>2164</td>\n",
       "      <td>2325</td>\n",
       "      <td>2049</td>\n",
       "    </tr>\n",
       "    <tr>\n",
       "      <th>1376</th>\n",
       "      <td>1365</td>\n",
       "      <td>1509</td>\n",
       "      <td>1375</td>\n",
       "      <td>1274</td>\n",
       "      <td>1280</td>\n",
       "      <td>1545</td>\n",
       "      <td>1429</td>\n",
       "      <td>1257</td>\n",
       "      <td>1360</td>\n",
       "      <td>1479</td>\n",
       "      <td>...</td>\n",
       "      <td>1284</td>\n",
       "      <td>1303</td>\n",
       "      <td>1451</td>\n",
       "      <td>1319</td>\n",
       "      <td>1446</td>\n",
       "      <td>1459</td>\n",
       "      <td>1494</td>\n",
       "      <td>1500</td>\n",
       "      <td>1570</td>\n",
       "      <td>1437</td>\n",
       "    </tr>\n",
       "    <tr>\n",
       "      <th>1162</th>\n",
       "      <td>7773</td>\n",
       "      <td>7954</td>\n",
       "      <td>7794</td>\n",
       "      <td>7632</td>\n",
       "      <td>7632</td>\n",
       "      <td>8005</td>\n",
       "      <td>7856</td>\n",
       "      <td>7623</td>\n",
       "      <td>7745</td>\n",
       "      <td>7907</td>\n",
       "      <td>...</td>\n",
       "      <td>7645</td>\n",
       "      <td>7698</td>\n",
       "      <td>7892</td>\n",
       "      <td>7708</td>\n",
       "      <td>7869</td>\n",
       "      <td>7899</td>\n",
       "      <td>7947</td>\n",
       "      <td>7947</td>\n",
       "      <td>8028</td>\n",
       "      <td>7854</td>\n",
       "    </tr>\n",
       "    <tr>\n",
       "      <th>1193</th>\n",
       "      <td>4122</td>\n",
       "      <td>4348</td>\n",
       "      <td>4140</td>\n",
       "      <td>4018</td>\n",
       "      <td>4017</td>\n",
       "      <td>4382</td>\n",
       "      <td>4214</td>\n",
       "      <td>4010</td>\n",
       "      <td>4097</td>\n",
       "      <td>4302</td>\n",
       "      <td>...</td>\n",
       "      <td>4038</td>\n",
       "      <td>4053</td>\n",
       "      <td>4259</td>\n",
       "      <td>4067</td>\n",
       "      <td>4238</td>\n",
       "      <td>4277</td>\n",
       "      <td>4334</td>\n",
       "      <td>4339</td>\n",
       "      <td>4396</td>\n",
       "      <td>4223</td>\n",
       "    </tr>\n",
       "    <tr>\n",
       "      <th>...</th>\n",
       "      <td>...</td>\n",
       "      <td>...</td>\n",
       "      <td>...</td>\n",
       "      <td>...</td>\n",
       "      <td>...</td>\n",
       "      <td>...</td>\n",
       "      <td>...</td>\n",
       "      <td>...</td>\n",
       "      <td>...</td>\n",
       "      <td>...</td>\n",
       "      <td>...</td>\n",
       "      <td>...</td>\n",
       "      <td>...</td>\n",
       "      <td>...</td>\n",
       "      <td>...</td>\n",
       "      <td>...</td>\n",
       "      <td>...</td>\n",
       "      <td>...</td>\n",
       "      <td>...</td>\n",
       "      <td>...</td>\n",
       "      <td>...</td>\n",
       "    </tr>\n",
       "    <tr>\n",
       "      <th>1009</th>\n",
       "      <td>667</td>\n",
       "      <td>851</td>\n",
       "      <td>697</td>\n",
       "      <td>588</td>\n",
       "      <td>588</td>\n",
       "      <td>864</td>\n",
       "      <td>733</td>\n",
       "      <td>567</td>\n",
       "      <td>667</td>\n",
       "      <td>786</td>\n",
       "      <td>...</td>\n",
       "      <td>588</td>\n",
       "      <td>588</td>\n",
       "      <td>781</td>\n",
       "      <td>637</td>\n",
       "      <td>757</td>\n",
       "      <td>781</td>\n",
       "      <td>810</td>\n",
       "      <td>851</td>\n",
       "      <td>882</td>\n",
       "      <td>757</td>\n",
       "    </tr>\n",
       "    <tr>\n",
       "      <th>1472</th>\n",
       "      <td>5448</td>\n",
       "      <td>5947</td>\n",
       "      <td>5477</td>\n",
       "      <td>5173</td>\n",
       "      <td>5224</td>\n",
       "      <td>6019</td>\n",
       "      <td>5623</td>\n",
       "      <td>5154</td>\n",
       "      <td>5425</td>\n",
       "      <td>5789</td>\n",
       "      <td>...</td>\n",
       "      <td>5276</td>\n",
       "      <td>5321</td>\n",
       "      <td>5694</td>\n",
       "      <td>5354</td>\n",
       "      <td>5678</td>\n",
       "      <td>5724</td>\n",
       "      <td>5811</td>\n",
       "      <td>5825</td>\n",
       "      <td>6123</td>\n",
       "      <td>5650</td>\n",
       "    </tr>\n",
       "    <tr>\n",
       "      <th>349</th>\n",
       "      <td>4862</td>\n",
       "      <td>5329</td>\n",
       "      <td>4895</td>\n",
       "      <td>4593</td>\n",
       "      <td>4607</td>\n",
       "      <td>5383</td>\n",
       "      <td>5077</td>\n",
       "      <td>4578</td>\n",
       "      <td>4831</td>\n",
       "      <td>5252</td>\n",
       "      <td>...</td>\n",
       "      <td>4629</td>\n",
       "      <td>4672</td>\n",
       "      <td>5151</td>\n",
       "      <td>4723</td>\n",
       "      <td>5127</td>\n",
       "      <td>5193</td>\n",
       "      <td>5285</td>\n",
       "      <td>5304</td>\n",
       "      <td>5407</td>\n",
       "      <td>5091</td>\n",
       "    </tr>\n",
       "    <tr>\n",
       "      <th>3307</th>\n",
       "      <td>2484</td>\n",
       "      <td>2780</td>\n",
       "      <td>2503</td>\n",
       "      <td>2116</td>\n",
       "      <td>2239</td>\n",
       "      <td>2825</td>\n",
       "      <td>2584</td>\n",
       "      <td>2093</td>\n",
       "      <td>2458</td>\n",
       "      <td>2728</td>\n",
       "      <td>...</td>\n",
       "      <td>2282</td>\n",
       "      <td>2332</td>\n",
       "      <td>2629</td>\n",
       "      <td>2374</td>\n",
       "      <td>2618</td>\n",
       "      <td>2645</td>\n",
       "      <td>2749</td>\n",
       "      <td>2760</td>\n",
       "      <td>2885</td>\n",
       "      <td>2584</td>\n",
       "    </tr>\n",
       "    <tr>\n",
       "      <th>2674</th>\n",
       "      <td>849</td>\n",
       "      <td>980</td>\n",
       "      <td>864</td>\n",
       "      <td>760</td>\n",
       "      <td>761</td>\n",
       "      <td>1010</td>\n",
       "      <td>905</td>\n",
       "      <td>747</td>\n",
       "      <td>841</td>\n",
       "      <td>944</td>\n",
       "      <td>...</td>\n",
       "      <td>781</td>\n",
       "      <td>789</td>\n",
       "      <td>917</td>\n",
       "      <td>812</td>\n",
       "      <td>912</td>\n",
       "      <td>926</td>\n",
       "      <td>954</td>\n",
       "      <td>969</td>\n",
       "      <td>1036</td>\n",
       "      <td>909</td>\n",
       "    </tr>\n",
       "  </tbody>\n",
       "</table>\n",
       "<p>844 rows × 28 columns</p>\n",
       "</div>"
      ],
      "text/plain": [
       "      9/22/20  10/6/20  9/23/20  9/14/20  9/15/20  10/8/20  9/27/20  9/13/20  \\\n",
       "942      1011     1191     1011      858      858     1223     1070      858   \n",
       "2366     1959     2181     1971     1838     1857     2245     2037     1824   \n",
       "1376     1365     1509     1375     1274     1280     1545     1429     1257   \n",
       "1162     7773     7954     7794     7632     7632     8005     7856     7623   \n",
       "1193     4122     4348     4140     4018     4017     4382     4214     4010   \n",
       "...       ...      ...      ...      ...      ...      ...      ...      ...   \n",
       "1009      667      851      697      588      588      864      733      567   \n",
       "1472     5448     5947     5477     5173     5224     6019     5623     5154   \n",
       "349      4862     5329     4895     4593     4607     5383     5077     4578   \n",
       "3307     2484     2780     2503     2116     2239     2825     2584     2093   \n",
       "2674      849      980      864      760      761     1010      905      747   \n",
       "\n",
       "      9/21/20  10/3/20  ...  9/16/20  9/17/20  9/30/20  9/18/20  9/29/20  \\\n",
       "942       978     1131  ...      858      858     1098      951     1098   \n",
       "2366     1945     2112  ...     1890     1900     2078     1909     2057   \n",
       "1376     1360     1479  ...     1284     1303     1451     1319     1446   \n",
       "1162     7745     7907  ...     7645     7698     7892     7708     7869   \n",
       "1193     4097     4302  ...     4038     4053     4259     4067     4238   \n",
       "...       ...      ...  ...      ...      ...      ...      ...      ...   \n",
       "1009      667      786  ...      588      588      781      637      757   \n",
       "1472     5425     5789  ...     5276     5321     5694     5354     5678   \n",
       "349      4831     5252  ...     4629     4672     5151     4723     5127   \n",
       "3307     2458     2728  ...     2282     2332     2629     2374     2618   \n",
       "2674      841      944  ...      781      789      917      812      912   \n",
       "\n",
       "      10/1/20  10/4/20  10/5/20  10/10/20  9/28/20  \n",
       "942      1128     1163     1163      1223     1070  \n",
       "2366     2091     2150     2164      2325     2049  \n",
       "1376     1459     1494     1500      1570     1437  \n",
       "1162     7899     7947     7947      8028     7854  \n",
       "1193     4277     4334     4339      4396     4223  \n",
       "...       ...      ...      ...       ...      ...  \n",
       "1009      781      810      851       882      757  \n",
       "1472     5724     5811     5825      6123     5650  \n",
       "349      5193     5285     5304      5407     5091  \n",
       "3307     2645     2749     2760      2885     2584  \n",
       "2674      926      954      969      1036      909  \n",
       "\n",
       "[844 rows x 28 columns]"
      ]
     },
     "execution_count": 43,
     "metadata": {},
     "output_type": "execute_result"
    }
   ],
   "source": [
    "X_train"
   ]
  },
  {
   "cell_type": "code",
   "execution_count": 16,
   "metadata": {},
   "outputs": [
    {
     "data": {
      "text/plain": [
       "array([ 2962.35680433,  3252.28842248,  4667.61746784,  3093.56499661,\n",
       "        4875.07616791,  4954.48849018,  7202.9746107 ,  6798.47122546,\n",
       "        9536.91299932,  5668.90589032,  9750.36932972, 14241.78808395,\n",
       "       10249.61475965, 10944.51117129, 13080.10798917])"
      ]
     },
     "execution_count": 16,
     "metadata": {},
     "output_type": "execute_result"
    }
   ],
   "source": [
    "cases_results_RMSE"
   ]
  },
  {
   "cell_type": "code",
   "execution_count": 17,
   "metadata": {},
   "outputs": [
    {
     "data": {
      "text/plain": [
       "array([0.82734392, 0.95110894, 0.97188952, 0.98940129, 0.98826683,\n",
       "       0.99013768, 0.98867348, 0.99259078, 0.99267904, 0.99662815,\n",
       "       0.99535077, 0.99409433, 0.99630293, 0.99652615, 0.99656773])"
      ]
     },
     "execution_count": 17,
     "metadata": {},
     "output_type": "execute_result"
    }
   ],
   "source": [
    "cases_score"
   ]
  },
  {
   "cell_type": "code",
   "execution_count": 48,
   "metadata": {},
   "outputs": [
    {
     "data": {
      "text/plain": [
       "[<matplotlib.lines.Line2D at 0x7f41f5609a60>]"
      ]
     },
     "execution_count": 48,
     "metadata": {},
     "output_type": "execute_result"
    },
    {
     "data": {
      "image/png": "[encoded data removed]",
      "text/plain": [
       "<Figure size 432x288 with 1 Axes>"
      ]
     },
     "metadata": {
      "needs_background": "light"
     },
     "output_type": "display_data"
    }
   ],
   "source": [
    "x_axis = np.arange(0,15)\n",
    "plt.plot(x_axis,deaths_results_MAE,'bo')\n",
    "plt.plot(x_axis,deaths_results_RMSE,'go')\n",
    "plt.plot(x_axis,deaths_results_MAE*math.sqrt(len(X_test)),'ro')"
   ]
  },
  {
   "cell_type": "code",
   "execution_count": 52,
   "metadata": {},
   "outputs": [
    {
     "data": {
      "text/plain": [
       "[<matplotlib.lines.Line2D at 0x7f41f550ad30>]"
      ]
     },
     "execution_count": 52,
     "metadata": {},
     "output_type": "execute_result"
    },
    {
     "data": {
      "image/png": "[encoded data removed]",
      "text/plain": [
       "<Figure size 432x288 with 1 Axes>"
      ]
     },
     "metadata": {
      "needs_background": "light"
     },
     "output_type": "display_data"
    }
   ],
   "source": [
    "import math\n",
    "plt.plot(x_axis,cases_results_MAE,'bo')\n",
    "plt.plot(x_axis,cases_results_RMSE,'go')\n",
    "plt.plot(x_axis,cases_results_MAE*cases_results_MAE*(len(X_test)),'ro')"
   ]
  },
  {
   "cell_type": "code",
   "execution_count": 20,
   "metadata": {},
   "outputs": [
    {
     "data": {
      "text/plain": [
       "[<matplotlib.lines.Line2D at 0x7f41f5d83f70>]"
      ]
     },
     "execution_count": 20,
     "metadata": {},
     "output_type": "execute_result"
    },
    {
     "data": {
      "image/png": "[encoded data removed]",
      "text/plain": [
       "<Figure size 432x288 with 1 Axes>"
      ]
     },
     "metadata": {
      "needs_background": "light"
     },
     "output_type": "display_data"
    }
   ],
   "source": [
    "plt.plot(x_axis,cases_score,'yo')\n",
    "plt.plot(x_axis,deaths_score,'ko')"
   ]
  },
  {
   "cell_type": "code",
   "execution_count": 34,
   "metadata": {},
   "outputs": [],
   "source": [
    "MAE_1 = cases_results_RMSE\n",
    "MAE_2 = np.asarray([ 2931.25795531,  3258.18280298,  5816.00236967,  2927.0450237 ,\n",
    "        4257.64285714,  5950.58700068,  5352.08192282,  7969.53588355,\n",
    "        9580.13405552,  4063.75964794, 10660.49932295, 16895.25253893,\n",
    "       13886.46953284,  7512.39065674, 13653.93398781])"
   ]
  },
  {
   "cell_type": "code",
   "execution_count": 35,
   "metadata": {},
   "outputs": [
    {
     "data": {
      "text/plain": [
       "[<matplotlib.lines.Line2D at 0x7f41f5aa4f40>]"
      ]
     },
     "execution_count": 35,
     "metadata": {},
     "output_type": "execute_result"
    },
    {
     "data": {
      "image/png": "[encoded data removed]",
      "text/plain": [
       "<Figure size 432x288 with 1 Axes>"
      ]
     },
     "metadata": {
      "needs_background": "light"
     },
     "output_type": "display_data"
    }
   ],
   "source": [
    "plt.plot(x_axis,MAE_1,'bo')\n",
    "plt.plot(x_axis,MAE_2,'go')"
   ]
  },
  {
   "cell_type": "code",
   "execution_count": 37,
   "metadata": {},
   "outputs": [
    {
     "data": {
      "text/plain": [
       "[<matplotlib.lines.Line2D at 0x7f41f59f00a0>]"
      ]
     },
     "execution_count": 37,
     "metadata": {},
     "output_type": "execute_result"
    },
    {
     "data": {
      "image/png": "[encoded data removed]",
      "text/plain": [
       "<Figure size 432x288 with 1 Axes>"
      ]
     },
     "metadata": {
      "needs_background": "light"
     },
     "output_type": "display_data"
    }
   ],
   "source": [
    "MAE_3 = deaths_results_MAE\n",
    "MAE_4 = np.asarray([0.90453622, 1.5859851 , 1.53859174, 1.58903182, 1.27014218,\n",
    "       1.352065  , 1.1563981 , 1.46682464, 1.84969533, 1.62085308,\n",
    "       1.80974949, 1.66316858, 1.81279621, 1.73493568, 2.11814489])\n",
    "plt.plot(x_axis,MAE_3,'bo')\n",
    "plt.plot(x_axis,MAE_4,'go')"
   ]
  },
  {
   "cell_type": "code",
   "execution_count": 24,
   "metadata": {},
   "outputs": [
    {
     "data": {
      "text/plain": [
       "[<matplotlib.lines.Line2D at 0x7f41f5ba1c40>]"
      ]
     },
     "execution_count": 24,
     "metadata": {},
     "output_type": "execute_result"
    },
    {
     "data": {
      "image/png": "[encoded data removed]",
      "text/plain": [
       "<Figure size 432x288 with 1 Axes>"
      ]
     },
     "metadata": {
      "needs_background": "light"
     },
     "output_type": "display_data"
    }
   ],
   "source": [
    "#Density\n",
    "c_score1 = cases_score\n",
    "#No Density\n",
    "c_score2 = np.asarray([0.8300102 , 0.95180465, 0.96384375, 0.9891135 , 0.98935309,\n",
    "       0.99008621, 0.99027089, 0.99169037, 0.99338813, 0.99638814,\n",
    "       0.99495131, 0.99325977, 0.9965981 , 0.99643575, 0.99591209])\n",
    "plt.plot(x_axis[2:],c_score1[2:],'bo')\n",
    "plt.plot(x_axis[2:],c_score2[2:],'go')"
   ]
  },
  {
   "cell_type": "code",
   "execution_count": 25,
   "metadata": {},
   "outputs": [
    {
     "data": {
      "text/plain": [
       "[<matplotlib.lines.Line2D at 0x7f41f5c89e80>]"
      ]
     },
     "execution_count": 25,
     "metadata": {},
     "output_type": "execute_result"
    },
    {
     "data": {
      "image/png": "[encoded data removed]",
      "text/plain": [
       "<Figure size 432x288 with 1 Axes>"
      ]
     },
     "metadata": {
      "needs_background": "light"
     },
     "output_type": "display_data"
    }
   ],
   "source": [
    "d_score1 = deaths_score\n",
    "d_score2 = np.asarray([0.75144915, 0.90268227, 0.96945327, 0.98799914, 0.99350377,\n",
    "       0.99403161, 0.99605661, 0.99538556, 0.99520582, 0.99593972,\n",
    "       0.99662951, 0.9972659 , 0.99719205, 0.9966172 , 0.99640705])\n",
    "plt.plot(x_axis,d_score1,'bo')\n",
    "plt.plot(x_axis,d_score2,'go')"
   ]
  },
  {
   "cell_type": "code",
   "execution_count": 26,
   "metadata": {},
   "outputs": [
    {
     "data": {
      "text/plain": [
       "array([0.82734392, 0.95110894, 0.97188952, 0.98940129, 0.98826683,\n",
       "       0.99013768, 0.98867348, 0.99259078, 0.99267904, 0.99662815,\n",
       "       0.99535077, 0.99409433, 0.99630293, 0.99652615, 0.99656773])"
      ]
     },
     "execution_count": 26,
     "metadata": {},
     "output_type": "execute_result"
    }
   ],
   "source": [
    "cases_score"
   ]
  },
  {
   "cell_type": "code",
   "execution_count": 27,
   "metadata": {},
   "outputs": [
    {
     "data": {
      "text/plain": [
       "array([0.63072141, 0.89583901, 0.97185666, 0.98670067, 0.99399675,\n",
       "       0.99317531, 0.99727043, 0.99654505, 0.99580878, 0.99680579,\n",
       "       0.99620871, 0.99712186, 0.99664161, 0.99608622, 0.99644837])"
      ]
     },
     "execution_count": 27,
     "metadata": {},
     "output_type": "execute_result"
    }
   ],
   "source": [
    "deaths_score"
   ]
  },
  {
   "cell_type": "code",
   "execution_count": 28,
   "metadata": {},
   "outputs": [],
   "source": [
    "cerr = c_score1-c_score2"
   ]
  },
  {
   "cell_type": "code",
   "execution_count": 29,
   "metadata": {},
   "outputs": [],
   "source": [
    "derr = d_score1-d_score2"
   ]
  },
  {
   "cell_type": "raw",
   "metadata": {},
   "source": []
  },
  {
   "cell_type": "code",
   "execution_count": 30,
   "metadata": {},
   "outputs": [
    {
     "data": {
      "text/plain": [
       "0.0044555833777417675"
      ]
     },
     "execution_count": 30,
     "metadata": {},
     "output_type": "execute_result"
    }
   ],
   "source": [
    "cerr.sum()"
   ]
  },
  {
   "cell_type": "code",
   "execution_count": 31,
   "metadata": {},
   "outputs": [
    {
     "data": {
      "text/plain": [
       "-0.12459199464978143"
      ]
     },
     "execution_count": 31,
     "metadata": {},
     "output_type": "execute_result"
    }
   ],
   "source": [
    "derr.sum()"
   ]
  },
  {
   "cell_type": "code",
   "execution_count": null,
   "metadata": {},
   "outputs": [],
   "source": []
  }
 ],
 "metadata": {
  "kernelspec": {
   "display_name": "Python 3",
   "language": "python",
   "name": "python3"
  },
  "language_info": {
   "codemirror_mode": {
    "name": "ipython",
    "version": 3
   },
   "file_extension": ".py",
   "mimetype": "text/x-python",
   "name": "python",
   "nbconvert_exporter": "python",
   "pygments_lexer": "ipython3",
   "version": "3.8.5"
  }
 },
 "nbformat": 4,
 "nbformat_minor": 4
}
