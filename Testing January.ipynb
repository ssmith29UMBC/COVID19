{
 "cells": [
  {
   "cell_type": "markdown",
   "metadata": {},
   "source": [
    "This notebook takes 1 March - 31 October. It uses 4 weeks of data to predict the next 2 weeks"
   ]
  },
  {
   "cell_type": "code",
   "execution_count": 1,
   "metadata": {},
   "outputs": [],
   "source": [
    "import numpy as np\n",
    "import matplotlib.pylab as plt\n",
    "from pandas import read_csv\n",
    "import matplotlib.pyplot\n",
    "import pandas as pd\n",
    "from sklearn import preprocessing\n",
    "from sklearn.model_selection import train_test_split\n",
    "from sklearn.neural_network import MLPRegressor\n",
    "from sklearn.datasets import make_regression\n",
    "from sklearn.metrics import mean_absolute_error\n",
    "from sklearn.metrics import mean_squared_error\n",
    "from datetime import date, timedelta\n",
    "from sklearn.metrics import r2_score"
   ]
  },
  {
   "cell_type": "code",
   "execution_count": 2,
   "metadata": {},
   "outputs": [],
   "source": [
    "cases = pd.read_csv(\"time_series_covid19_confirmed_US.csv\")\n",
    "deaths  = pd.read_csv(\"time_series_covid19_deaths_US.csv\")\n",
    "density = pd.read_csv(\"popden.csv\")"
   ]
  },
  {
   "cell_type": "code",
   "execution_count": 3,
   "metadata": {},
   "outputs": [],
   "source": [
    "fips = cases[(cases['10/31/20']<10000)]\n",
    "fips = fips[(fips['10/31/20']>1000)]\n",
    "\n",
    "f = fips['FIPS'].tolist()\n",
    "cases = cases[cases['FIPS'].isin(f)]\n",
    "deaths = deaths[deaths['FIPS'].isin(f)]"
   ]
  },
  {
   "cell_type": "code",
   "execution_count": 4,
   "metadata": {},
   "outputs": [],
   "source": [
    "density.drop_duplicates(subset=['fips'],keep='last',inplace=True)\n",
    "\n",
    "strings = {'NMR','PR','VI','KSC','NYC'}\n",
    "index_names = density[(density['fips']).isin(strings)].index\n",
    "density.drop(index_names, inplace=True)\n",
    "\n",
    "density['fips']=density['fips'].astype(float)"
   ]
  },
  {
   "cell_type": "code",
   "execution_count": 5,
   "metadata": {},
   "outputs": [],
   "source": [
    "c = pd.merge(cases,density, left_on='FIPS',right_on='fips')\n",
    "d = pd.merge(deaths,density, left_on='FIPS',right_on='fips')"
   ]
  },
  {
   "cell_type": "code",
   "execution_count": 6,
   "metadata": {},
   "outputs": [],
   "source": [
    "col = {'UID','iso2','iso3','code3','FIPS','Admin2','Province_State','Country_Region','Lat','Long_','Combined_Key','date','county','state','fips','cases','deaths','stay_at_home_announced','stay_at_home_effective','lat','lon','total_population','area_sqmi'}\n",
    "c.drop(c.columns[c.columns.isin(col)],axis=1,inplace=True)\n",
    "d.drop(d.columns[d.columns.isin(col)],axis=1,inplace=True)"
   ]
  },
  {
   "cell_type": "code",
   "execution_count": 7,
   "metadata": {},
   "outputs": [],
   "source": [
    "from sklearn.preprocessing import minmax_scale\n",
    "d['population_density_per_sqmi']=minmax_scale(d['population_density_per_sqmi'])\n",
    "c['population_density_per_sqmi']=minmax_scale(c['population_density_per_sqmi'])"
   ]
  },
  {
   "cell_type": "code",
   "execution_count": 8,
   "metadata": {},
   "outputs": [
    {
     "data": {
      "text/html": [
       "<div>\n",
       "<style scoped>\n",
       "    .dataframe tbody tr th:only-of-type {\n",
       "        vertical-align: middle;\n",
       "    }\n",
       "\n",
       "    .dataframe tbody tr th {\n",
       "        vertical-align: top;\n",
       "    }\n",
       "\n",
       "    .dataframe thead th {\n",
       "        text-align: right;\n",
       "    }\n",
       "</style>\n",
       "<table border=\"1\" class=\"dataframe\">\n",
       "  <thead>\n",
       "    <tr style=\"text-align: right;\">\n",
       "      <th></th>\n",
       "      <th>1/22/20</th>\n",
       "      <th>1/23/20</th>\n",
       "      <th>1/24/20</th>\n",
       "      <th>1/25/20</th>\n",
       "      <th>1/26/20</th>\n",
       "      <th>1/27/20</th>\n",
       "      <th>1/28/20</th>\n",
       "      <th>1/29/20</th>\n",
       "      <th>1/30/20</th>\n",
       "      <th>1/31/20</th>\n",
       "      <th>...</th>\n",
       "      <th>2/16/21</th>\n",
       "      <th>2/17/21</th>\n",
       "      <th>2/18/21</th>\n",
       "      <th>2/19/21</th>\n",
       "      <th>2/20/21</th>\n",
       "      <th>2/21/21</th>\n",
       "      <th>2/22/21</th>\n",
       "      <th>2/23/21</th>\n",
       "      <th>2/24/21</th>\n",
       "      <th>population_density_per_sqmi</th>\n",
       "    </tr>\n",
       "  </thead>\n",
       "  <tbody>\n",
       "    <tr>\n",
       "      <th>0</th>\n",
       "      <td>0</td>\n",
       "      <td>0</td>\n",
       "      <td>0</td>\n",
       "      <td>0</td>\n",
       "      <td>0</td>\n",
       "      <td>0</td>\n",
       "      <td>0</td>\n",
       "      <td>0</td>\n",
       "      <td>0</td>\n",
       "      <td>0</td>\n",
       "      <td>...</td>\n",
       "      <td>6038</td>\n",
       "      <td>6050</td>\n",
       "      <td>6071</td>\n",
       "      <td>6079</td>\n",
       "      <td>6092</td>\n",
       "      <td>6117</td>\n",
       "      <td>6121</td>\n",
       "      <td>6143</td>\n",
       "      <td>6172</td>\n",
       "      <td>0.008940</td>\n",
       "    </tr>\n",
       "    <tr>\n",
       "      <th>1</th>\n",
       "      <td>0</td>\n",
       "      <td>0</td>\n",
       "      <td>0</td>\n",
       "      <td>0</td>\n",
       "      <td>0</td>\n",
       "      <td>0</td>\n",
       "      <td>0</td>\n",
       "      <td>0</td>\n",
       "      <td>0</td>\n",
       "      <td>0</td>\n",
       "      <td>...</td>\n",
       "      <td>19176</td>\n",
       "      <td>19267</td>\n",
       "      <td>19324</td>\n",
       "      <td>19361</td>\n",
       "      <td>19392</td>\n",
       "      <td>19433</td>\n",
       "      <td>19461</td>\n",
       "      <td>19554</td>\n",
       "      <td>19635</td>\n",
       "      <td>0.012209</td>\n",
       "    </tr>\n",
       "    <tr>\n",
       "      <th>2</th>\n",
       "      <td>0</td>\n",
       "      <td>0</td>\n",
       "      <td>0</td>\n",
       "      <td>0</td>\n",
       "      <td>0</td>\n",
       "      <td>0</td>\n",
       "      <td>0</td>\n",
       "      <td>0</td>\n",
       "      <td>0</td>\n",
       "      <td>0</td>\n",
       "      <td>...</td>\n",
       "      <td>2055</td>\n",
       "      <td>2053</td>\n",
       "      <td>2057</td>\n",
       "      <td>2061</td>\n",
       "      <td>2067</td>\n",
       "      <td>2070</td>\n",
       "      <td>2074</td>\n",
       "      <td>2084</td>\n",
       "      <td>2095</td>\n",
       "      <td>0.002726</td>\n",
       "    </tr>\n",
       "    <tr>\n",
       "      <th>3</th>\n",
       "      <td>0</td>\n",
       "      <td>0</td>\n",
       "      <td>0</td>\n",
       "      <td>0</td>\n",
       "      <td>0</td>\n",
       "      <td>0</td>\n",
       "      <td>0</td>\n",
       "      <td>0</td>\n",
       "      <td>0</td>\n",
       "      <td>0</td>\n",
       "      <td>...</td>\n",
       "      <td>5987</td>\n",
       "      <td>5997</td>\n",
       "      <td>6008</td>\n",
       "      <td>6021</td>\n",
       "      <td>6040</td>\n",
       "      <td>6042</td>\n",
       "      <td>6043</td>\n",
       "      <td>6058</td>\n",
       "      <td>6072</td>\n",
       "      <td>0.008631</td>\n",
       "    </tr>\n",
       "    <tr>\n",
       "      <th>4</th>\n",
       "      <td>0</td>\n",
       "      <td>0</td>\n",
       "      <td>0</td>\n",
       "      <td>0</td>\n",
       "      <td>0</td>\n",
       "      <td>0</td>\n",
       "      <td>0</td>\n",
       "      <td>0</td>\n",
       "      <td>0</td>\n",
       "      <td>0</td>\n",
       "      <td>...</td>\n",
       "      <td>1910</td>\n",
       "      <td>1924</td>\n",
       "      <td>1930</td>\n",
       "      <td>1934</td>\n",
       "      <td>1938</td>\n",
       "      <td>1940</td>\n",
       "      <td>1945</td>\n",
       "      <td>1948</td>\n",
       "      <td>1951</td>\n",
       "      <td>0.002332</td>\n",
       "    </tr>\n",
       "    <tr>\n",
       "      <th>...</th>\n",
       "      <td>...</td>\n",
       "      <td>...</td>\n",
       "      <td>...</td>\n",
       "      <td>...</td>\n",
       "      <td>...</td>\n",
       "      <td>...</td>\n",
       "      <td>...</td>\n",
       "      <td>...</td>\n",
       "      <td>...</td>\n",
       "      <td>...</td>\n",
       "      <td>...</td>\n",
       "      <td>...</td>\n",
       "      <td>...</td>\n",
       "      <td>...</td>\n",
       "      <td>...</td>\n",
       "      <td>...</td>\n",
       "      <td>...</td>\n",
       "      <td>...</td>\n",
       "      <td>...</td>\n",
       "      <td>...</td>\n",
       "      <td>...</td>\n",
       "    </tr>\n",
       "    <tr>\n",
       "      <th>1032</th>\n",
       "      <td>0</td>\n",
       "      <td>0</td>\n",
       "      <td>0</td>\n",
       "      <td>0</td>\n",
       "      <td>0</td>\n",
       "      <td>0</td>\n",
       "      <td>0</td>\n",
       "      <td>0</td>\n",
       "      <td>0</td>\n",
       "      <td>0</td>\n",
       "      <td>...</td>\n",
       "      <td>3867</td>\n",
       "      <td>3871</td>\n",
       "      <td>3871</td>\n",
       "      <td>3880</td>\n",
       "      <td>3880</td>\n",
       "      <td>3887</td>\n",
       "      <td>3893</td>\n",
       "      <td>3892</td>\n",
       "      <td>3893</td>\n",
       "      <td>0.000617</td>\n",
       "    </tr>\n",
       "    <tr>\n",
       "      <th>1033</th>\n",
       "      <td>0</td>\n",
       "      <td>0</td>\n",
       "      <td>0</td>\n",
       "      <td>0</td>\n",
       "      <td>0</td>\n",
       "      <td>0</td>\n",
       "      <td>0</td>\n",
       "      <td>0</td>\n",
       "      <td>0</td>\n",
       "      <td>0</td>\n",
       "      <td>...</td>\n",
       "      <td>4639</td>\n",
       "      <td>4643</td>\n",
       "      <td>4643</td>\n",
       "      <td>4646</td>\n",
       "      <td>4646</td>\n",
       "      <td>4647</td>\n",
       "      <td>4649</td>\n",
       "      <td>4652</td>\n",
       "      <td>4655</td>\n",
       "      <td>0.000740</td>\n",
       "    </tr>\n",
       "    <tr>\n",
       "      <th>1034</th>\n",
       "      <td>0</td>\n",
       "      <td>0</td>\n",
       "      <td>0</td>\n",
       "      <td>0</td>\n",
       "      <td>0</td>\n",
       "      <td>0</td>\n",
       "      <td>0</td>\n",
       "      <td>0</td>\n",
       "      <td>0</td>\n",
       "      <td>0</td>\n",
       "      <td>...</td>\n",
       "      <td>4718</td>\n",
       "      <td>4743</td>\n",
       "      <td>4754</td>\n",
       "      <td>4764</td>\n",
       "      <td>4764</td>\n",
       "      <td>4792</td>\n",
       "      <td>4810</td>\n",
       "      <td>4816</td>\n",
       "      <td>4825</td>\n",
       "      <td>0.000177</td>\n",
       "    </tr>\n",
       "    <tr>\n",
       "      <th>1035</th>\n",
       "      <td>0</td>\n",
       "      <td>0</td>\n",
       "      <td>0</td>\n",
       "      <td>0</td>\n",
       "      <td>0</td>\n",
       "      <td>0</td>\n",
       "      <td>0</td>\n",
       "      <td>0</td>\n",
       "      <td>0</td>\n",
       "      <td>0</td>\n",
       "      <td>...</td>\n",
       "      <td>8098</td>\n",
       "      <td>8109</td>\n",
       "      <td>8116</td>\n",
       "      <td>8122</td>\n",
       "      <td>8122</td>\n",
       "      <td>8126</td>\n",
       "      <td>8135</td>\n",
       "      <td>8141</td>\n",
       "      <td>8145</td>\n",
       "      <td>0.003306</td>\n",
       "    </tr>\n",
       "    <tr>\n",
       "      <th>1036</th>\n",
       "      <td>0</td>\n",
       "      <td>0</td>\n",
       "      <td>0</td>\n",
       "      <td>0</td>\n",
       "      <td>0</td>\n",
       "      <td>0</td>\n",
       "      <td>0</td>\n",
       "      <td>0</td>\n",
       "      <td>0</td>\n",
       "      <td>0</td>\n",
       "      <td>...</td>\n",
       "      <td>7632</td>\n",
       "      <td>7640</td>\n",
       "      <td>7646</td>\n",
       "      <td>7658</td>\n",
       "      <td>7658</td>\n",
       "      <td>7669</td>\n",
       "      <td>7674</td>\n",
       "      <td>7678</td>\n",
       "      <td>7684</td>\n",
       "      <td>0.001242</td>\n",
       "    </tr>\n",
       "  </tbody>\n",
       "</table>\n",
       "<p>1037 rows × 401 columns</p>\n",
       "</div>"
      ],
      "text/plain": [
       "      1/22/20  1/23/20  1/24/20  1/25/20  1/26/20  1/27/20  1/28/20  1/29/20  \\\n",
       "0           0        0        0        0        0        0        0        0   \n",
       "1           0        0        0        0        0        0        0        0   \n",
       "2           0        0        0        0        0        0        0        0   \n",
       "3           0        0        0        0        0        0        0        0   \n",
       "4           0        0        0        0        0        0        0        0   \n",
       "...       ...      ...      ...      ...      ...      ...      ...      ...   \n",
       "1032        0        0        0        0        0        0        0        0   \n",
       "1033        0        0        0        0        0        0        0        0   \n",
       "1034        0        0        0        0        0        0        0        0   \n",
       "1035        0        0        0        0        0        0        0        0   \n",
       "1036        0        0        0        0        0        0        0        0   \n",
       "\n",
       "      1/30/20  1/31/20  ...  2/16/21  2/17/21  2/18/21  2/19/21  2/20/21  \\\n",
       "0           0        0  ...     6038     6050     6071     6079     6092   \n",
       "1           0        0  ...    19176    19267    19324    19361    19392   \n",
       "2           0        0  ...     2055     2053     2057     2061     2067   \n",
       "3           0        0  ...     5987     5997     6008     6021     6040   \n",
       "4           0        0  ...     1910     1924     1930     1934     1938   \n",
       "...       ...      ...  ...      ...      ...      ...      ...      ...   \n",
       "1032        0        0  ...     3867     3871     3871     3880     3880   \n",
       "1033        0        0  ...     4639     4643     4643     4646     4646   \n",
       "1034        0        0  ...     4718     4743     4754     4764     4764   \n",
       "1035        0        0  ...     8098     8109     8116     8122     8122   \n",
       "1036        0        0  ...     7632     7640     7646     7658     7658   \n",
       "\n",
       "      2/21/21  2/22/21  2/23/21  2/24/21  population_density_per_sqmi  \n",
       "0        6117     6121     6143     6172                     0.008940  \n",
       "1       19433    19461    19554    19635                     0.012209  \n",
       "2        2070     2074     2084     2095                     0.002726  \n",
       "3        6042     6043     6058     6072                     0.008631  \n",
       "4        1940     1945     1948     1951                     0.002332  \n",
       "...       ...      ...      ...      ...                          ...  \n",
       "1032     3887     3893     3892     3893                     0.000617  \n",
       "1033     4647     4649     4652     4655                     0.000740  \n",
       "1034     4792     4810     4816     4825                     0.000177  \n",
       "1035     8126     8135     8141     8145                     0.003306  \n",
       "1036     7669     7674     7678     7684                     0.001242  \n",
       "\n",
       "[1037 rows x 401 columns]"
      ]
     },
     "execution_count": 8,
     "metadata": {},
     "output_type": "execute_result"
    }
   ],
   "source": [
    "c"
   ]
  },
  {
   "cell_type": "code",
   "execution_count": 9,
   "metadata": {},
   "outputs": [],
   "source": [
    "cases.fillna(0,inplace=True)\n",
    "deaths.fillna(0,inplace=True)\n",
    "\n",
    "deaths_results_MAE = np.zeros(15)\n",
    "cases_results_MAE = np.zeros(15)\n",
    "\n",
    "deaths_results_RMSE = np.zeros(15)\n",
    "cases_results_RMSE = np.zeros(15)\n",
    "\n",
    "deaths_score = np.zeros(15)\n",
    "cases_score = np.zeros(15)"
   ]
  },
  {
   "cell_type": "code",
   "execution_count": 10,
   "metadata": {},
   "outputs": [],
   "source": [
    "testx = {'population_density_per_sqmi'}\n",
    "for i in range(1,29):\n",
    "    s = '12/'+str(i)+'/20'\n",
    "    testx.add(s)\n",
    "testy = {'12/29/20'}\n",
    "for i in range(30,32):\n",
    "    s = '12/'+str(i)+'/20'\n",
    "    testy.add(s)\n",
    "for i in range(1,12):\n",
    "    s = '1/'+str(i)+'/21'\n",
    "    testy.add(s)"
   ]
  },
  {
   "cell_type": "code",
   "execution_count": 26,
   "metadata": {},
   "outputs": [
    {
     "name": "stderr",
     "output_type": "stream",
     "text": [
      "/root/anaconda3/lib/python3.8/site-packages/sklearn/neural_network/_multilayer_perceptron.py:582: ConvergenceWarning: Stochastic Optimizer: Maximum iterations (1500) reached and the optimization hasn't converged yet.\n",
      "  warnings.warn(\n"
     ]
    }
   ],
   "source": [
    "x_date = date(2020,3,1)\n",
    "y_date = date(2020,3,29)\n",
    "delta = timedelta(days=14)\n",
    "\n",
    "for j in range (0,15):\n",
    "    \n",
    "    x_days = {'population_density_per_sqmi'}\n",
    "    for i in range(0,28):\n",
    "        s = x_date + timedelta(days=i)\n",
    "        x_days.add(s.strftime(\"%-m/%-d/%y\"))\n",
    "    y_days = {y_date.strftime(\"%-m/%-d/%y\")}\n",
    "    for i in range(1,14):\n",
    "        s = y_date + timedelta(days=i)\n",
    "        y_days.add(s.strftime(\"%-m/%-d/%y\"))\n",
    "       \n",
    "    X_train =deaths.filter(x_days)\n",
    "    y_train = deaths.filter(y_days)\n",
    "    \n",
    "    X_test = deaths.filter(testx)\n",
    "    y_test = deaths.filter(testy)\n",
    "    \n",
    "    \n",
    "    #X_train, X_test, y_train, y_test = train_test_split(x,y,test_size=.2,random_state=42)\n",
    "    reg = MLPRegressor(random_state=1, max_iter=1500).fit(X_train,y_train)\n",
    "    deaths_results_MAE[j]=mean_absolute_error(y_test.astype(int),reg.predict(X_test).astype(int))\n",
    "    deaths_results_RMSE[j]=mean_squared_error(y_test.astype(int),reg.predict(X_test).astype(int))\n",
    "    deaths_score[j] = r2_score(y_test,reg.predict(X_test))\n",
    "    x_date += delta\n",
    "    y_date += delta"
   ]
  },
  {
   "cell_type": "code",
   "execution_count": 12,
   "metadata": {},
   "outputs": [
    {
     "data": {
      "text/plain": [
       "array([286262.25741368,  15438.86723087,   2886.48097495,    624.66120515,\n",
       "         1020.59140149,    631.34475288,    849.13554502,   1463.79404198,\n",
       "          703.5788084 ,   1127.54218009,   1308.0464455 ,   1217.24001354,\n",
       "         1409.82477996,    996.50656737,    813.67725118])"
      ]
     },
     "execution_count": 12,
     "metadata": {},
     "output_type": "execute_result"
    }
   ],
   "source": [
    "deaths_results_RMSE"
   ]
  },
  {
   "cell_type": "code",
   "execution_count": 13,
   "metadata": {},
   "outputs": [
    {
     "data": {
      "text/plain": [
       "array([333.84807041,  63.67968856,  32.10859851,  12.49004739,\n",
       "        17.71475965,  13.34962762,  15.12227488,  22.33432634,\n",
       "        14.12017603,  18.85660122,  20.40812458,  19.7       ,\n",
       "        21.62924848,  17.39647935,  15.48551117])"
      ]
     },
     "execution_count": 13,
     "metadata": {},
     "output_type": "execute_result"
    }
   ],
   "source": [
    "deaths_results_MAE"
   ]
  },
  {
   "cell_type": "code",
   "execution_count": 14,
   "metadata": {},
   "outputs": [
    {
     "data": {
      "text/plain": [
       "array([-22.17439431,  -0.25723508,   0.77942761,   0.95268397,\n",
       "         0.92298877,   0.9537323 ,   0.93722052,   0.889886  ,\n",
       "         0.94827957,   0.91563889,   0.90237685,   0.90898081,\n",
       "         0.89425479,   0.9258684 ,   0.93965158])"
      ]
     },
     "execution_count": 14,
     "metadata": {},
     "output_type": "execute_result"
    }
   ],
   "source": [
    "deaths_score"
   ]
  },
  {
   "cell_type": "code",
   "execution_count": 15,
   "metadata": {},
   "outputs": [],
   "source": [
    "x_date = date(2020,3,1)\n",
    "y_date = date(2020,3,29)\n",
    "delta = timedelta(days=14)\n",
    "\n",
    "for j in range (0,15):\n",
    "    \n",
    "    x_days = {'population_density_per_sqmi'}\n",
    "    for i in range(0,28):\n",
    "        s = x_date + timedelta(days=i)\n",
    "        x_days.add(s.strftime(\"%-m/%-d/%y\"))\n",
    "    y_days = {y_date.strftime(\"%-m/%-d/%y\")}\n",
    "    for i in range(1,14):\n",
    "        s = y_date + timedelta(days=i)\n",
    "        y_days.add(s.strftime(\"%-m/%-d/%y\"))\n",
    "       \n",
    "    X_train = cases.filter(x_days)\n",
    "    y_train = cases.filter(y_days)\n",
    "    \n",
    "    X_test = cases.filter(testx)\n",
    "    y_test = cases.filter(testy)\n",
    "    \n",
    "    #X_train, X_test, y_train, y_test = train_test_split(x,y,test_size=.2,random_state=42)\n",
    "    reg = MLPRegressor(random_state=1, max_iter=1500).fit(X_train,y_train)\n",
    "    cases_results_MAE[j]=mean_absolute_error(y_test.astype(int),reg.predict(X_test).astype(int))\n",
    "    cases_results_RMSE[j]=mean_squared_error(y_test.astype(int),reg.predict(X_test).astype(int))\n",
    "    cases_score[j] = r2_score(y_test,reg.predict(X_test))\n",
    "    x_date += delta\n",
    "    y_date += delta"
   ]
  },
  {
   "cell_type": "code",
   "execution_count": 16,
   "metadata": {},
   "outputs": [
    {
     "data": {
      "text/plain": [
       "array([41348.39783345,  3374.89404198,  1240.50162492,   988.29329722,\n",
       "        1870.06025728,   737.28111036,  1097.63053487,  2411.55802302,\n",
       "         511.77298578,  1173.89695328,  1455.08659445,  1623.50900474,\n",
       "        1427.33926879,  1185.53155044,  1143.68348003])"
      ]
     },
     "execution_count": 16,
     "metadata": {},
     "output_type": "execute_result"
    }
   ],
   "source": [
    "cases_results_MAE"
   ]
  },
  {
   "cell_type": "code",
   "execution_count": 17,
   "metadata": {},
   "outputs": [
    {
     "data": {
      "text/plain": [
       "array([3.44642358e+09, 2.61083566e+07, 3.98733754e+06, 2.07425830e+06,\n",
       "       6.60683975e+06, 1.57455741e+06, 2.84419603e+06, 1.13975290e+07,\n",
       "       7.08284760e+05, 3.10174928e+06, 4.41777359e+06, 5.36316627e+06,\n",
       "       4.21783103e+06, 3.03304990e+06, 2.85600506e+06])"
      ]
     },
     "execution_count": 17,
     "metadata": {},
     "output_type": "execute_result"
    }
   ],
   "source": [
    "cases_results_RMSE"
   ]
  },
  {
   "cell_type": "code",
   "execution_count": 18,
   "metadata": {},
   "outputs": [
    {
     "data": {
      "text/plain": [
       "array([-120.84755795,    0.12215179,    0.86731291,    0.93051168,\n",
       "          0.77849412,    0.94904847,    0.90680208,    0.61411486,\n",
       "          0.97712837,    0.89752507,    0.85360916,    0.8199743 ,\n",
       "          0.85914137,    0.89919523,    0.9053316 ])"
      ]
     },
     "execution_count": 18,
     "metadata": {},
     "output_type": "execute_result"
    }
   ],
   "source": [
    "cases_score"
   ]
  },
  {
   "cell_type": "code",
   "execution_count": 19,
   "metadata": {},
   "outputs": [
    {
     "data": {
      "text/plain": [
       "[<matplotlib.lines.Line2D at 0x7fb97d2a6190>]"
      ]
     },
     "execution_count": 19,
     "metadata": {},
     "output_type": "execute_result"
    },
    {
     "data": {
      "image/png": "[encoded data removed]",
      "text/plain": [
       "<Figure size 432x288 with 1 Axes>"
      ]
     },
     "metadata": {
      "needs_background": "light"
     },
     "output_type": "display_data"
    }
   ],
   "source": [
    "x_axis = np.arange(0,15)\n",
    "\n",
    "d_score1 = deaths_score\n",
    "d_score2 = np.asarray([-47.78997426,   0.66963482,   0.8759063 ,   0.9161301 ,\n",
    "         0.85292508,   0.91223095,   0.85647065,   0.87933048,\n",
    "         0.9528111 ,   0.8721048 ,   0.94849844,   0.85795159,\n",
    "         0.87432541,   0.84626768,   0.88123666])\n",
    "plt.plot(x_axis[2:],d_score1[2:],'bo')\n",
    "plt.plot(x_axis[2:],d_score2[2:],'go')"
   ]
  },
  {
   "cell_type": "code",
   "execution_count": 20,
   "metadata": {},
   "outputs": [
    {
     "data": {
      "text/plain": [
       "[<matplotlib.lines.Line2D at 0x7fb97d1c6d60>]"
      ]
     },
     "execution_count": 20,
     "metadata": {},
     "output_type": "execute_result"
    },
    {
     "data": {
      "image/png": "[encoded data removed]",
      "text/plain": [
       "<Figure size 432x288 with 1 Axes>"
      ]
     },
     "metadata": {
      "needs_background": "light"
     },
     "output_type": "display_data"
    }
   ],
   "source": [
    "c_score1 = cases_score\n",
    "c_score2 = np.asarray([-47.78997426,   0.66963482,   0.8759063 ,   0.9161301 ,\n",
    "         0.85292508,   0.91223095,   0.85647065,   0.87933048,\n",
    "         0.9528111 ,   0.8721048 ,   0.94849844,   0.85795159,\n",
    "         0.87432541,   0.84626768,   0.88123666])\n",
    "plt.plot(x_axis,c_score1,'bo')\n",
    "plt.plot(x_axis,c_score2,'go')"
   ]
  },
  {
   "cell_type": "code",
   "execution_count": 29,
   "metadata": {},
   "outputs": [
    {
     "data": {
      "text/plain": [
       "<AxesSubplot:xlabel='Date', ylabel='Number of New COVID-19 Cases'>"
      ]
     },
     "execution_count": 29,
     "metadata": {},
     "output_type": "execute_result"
    },
    {
     "data": {
      "image/png": "[encoded data removed]",
      "text/plain": [
       "<Figure size 432x288 with 1 Axes>"
      ]
     },
     "metadata": {
      "needs_background": "light"
     },
     "output_type": "display_data"
    }
   ],
   "source": [
    "pred = reg.predict(X_test).astype(int)\n",
    "y1_train = pd.DataFrame(data=pred[1000],columns=['Predicted'])\n",
    "y1_test = y_test.iloc[1000]\n",
    "y1_train.plot.line(ylim=(0,2000),xlabel='Date',ylabel='Number of New COVID-19 Cases')\n",
    "y1_test.plot.line(label='Actual')"
   ]
  },
  {
   "cell_type": "code",
   "execution_count": 36,
   "metadata": {},
   "outputs": [
    {
     "data": {
      "text/html": [
       "<div>\n",
       "<style scoped>\n",
       "    .dataframe tbody tr th:only-of-type {\n",
       "        vertical-align: middle;\n",
       "    }\n",
       "\n",
       "    .dataframe tbody tr th {\n",
       "        vertical-align: top;\n",
       "    }\n",
       "\n",
       "    .dataframe thead th {\n",
       "        text-align: right;\n",
       "    }\n",
       "</style>\n",
       "<table border=\"1\" class=\"dataframe\">\n",
       "  <thead>\n",
       "    <tr style=\"text-align: right;\">\n",
       "      <th></th>\n",
       "      <th>Predicted</th>\n",
       "    </tr>\n",
       "  </thead>\n",
       "  <tbody>\n",
       "    <tr>\n",
       "      <th>0</th>\n",
       "      <td>25</td>\n",
       "    </tr>\n",
       "    <tr>\n",
       "      <th>1</th>\n",
       "      <td>27</td>\n",
       "    </tr>\n",
       "    <tr>\n",
       "      <th>2</th>\n",
       "      <td>26</td>\n",
       "    </tr>\n",
       "    <tr>\n",
       "      <th>3</th>\n",
       "      <td>26</td>\n",
       "    </tr>\n",
       "    <tr>\n",
       "      <th>4</th>\n",
       "      <td>27</td>\n",
       "    </tr>\n",
       "    <tr>\n",
       "      <th>5</th>\n",
       "      <td>27</td>\n",
       "    </tr>\n",
       "    <tr>\n",
       "      <th>6</th>\n",
       "      <td>26</td>\n",
       "    </tr>\n",
       "    <tr>\n",
       "      <th>7</th>\n",
       "      <td>27</td>\n",
       "    </tr>\n",
       "    <tr>\n",
       "      <th>8</th>\n",
       "      <td>26</td>\n",
       "    </tr>\n",
       "    <tr>\n",
       "      <th>9</th>\n",
       "      <td>27</td>\n",
       "    </tr>\n",
       "    <tr>\n",
       "      <th>10</th>\n",
       "      <td>27</td>\n",
       "    </tr>\n",
       "    <tr>\n",
       "      <th>11</th>\n",
       "      <td>27</td>\n",
       "    </tr>\n",
       "    <tr>\n",
       "      <th>12</th>\n",
       "      <td>26</td>\n",
       "    </tr>\n",
       "    <tr>\n",
       "      <th>13</th>\n",
       "      <td>25</td>\n",
       "    </tr>\n",
       "  </tbody>\n",
       "</table>\n",
       "</div>"
      ],
      "text/plain": [
       "    Predicted\n",
       "0          25\n",
       "1          27\n",
       "2          26\n",
       "3          26\n",
       "4          27\n",
       "5          27\n",
       "6          26\n",
       "7          27\n",
       "8          26\n",
       "9          27\n",
       "10         27\n",
       "11         27\n",
       "12         26\n",
       "13         25"
      ]
     },
     "execution_count": 36,
     "metadata": {},
     "output_type": "execute_result"
    }
   ],
   "source": [
    "y1_train"
   ]
  },
  {
   "cell_type": "code",
   "execution_count": 37,
   "metadata": {},
   "outputs": [],
   "source": [
    "#y1_train = y_train.iloc[100]\n",
    "d_axis = date(2020,12,29)\n",
    "date_axis = {d_axis.strftime(\"%-m/%-d/%y\")}\n",
    "for i in range(0,14):\n",
    "    s = d_axis + timedelta(days=i)\n",
    "    date_axis.add(s.strftime(\"%-m/%-d/%y\"))"
   ]
  },
  {
   "cell_type": "code",
   "execution_count": 22,
   "metadata": {},
   "outputs": [
    {
     "data": {
      "text/plain": [
       "[<matplotlib.lines.Line2D at 0x7fb97d0641c0>]"
      ]
     },
     "execution_count": 22,
     "metadata": {},
     "output_type": "execute_result"
    },
    {
     "data": {
      "image/png": "[encoded data removed]",
      "text/plain": [
       "<Figure size 432x288 with 1 Axes>"
      ]
     },
     "metadata": {
      "needs_background": "light"
     },
     "output_type": "display_data"
    }
   ],
   "source": [
    "plt.plot(x_axis,deaths_results_MAE,'bo')\n",
    "plt.plot(x_axis,deaths_results_RMSE,'go')\n",
    "#plt.plot(x_axis,deaths_results_MAE*len(x),'ro')"
   ]
  },
  {
   "cell_type": "code",
   "execution_count": null,
   "metadata": {},
   "outputs": [],
   "source": []
  },
  {
   "cell_type": "code",
   "execution_count": 23,
   "metadata": {},
   "outputs": [
    {
     "ename": "NameError",
     "evalue": "name 'x' is not defined",
     "output_type": "error",
     "traceback": [
      "\u001b[0;31m---------------------------------------------------------------------------\u001b[0m",
      "\u001b[0;31mNameError\u001b[0m                                 Traceback (most recent call last)",
      "\u001b[0;32m<ipython-input-23-c380a7c84995>\u001b[0m in \u001b[0;36m<module>\u001b[0;34m\u001b[0m\n\u001b[1;32m      1\u001b[0m \u001b[0mplt\u001b[0m\u001b[0;34m.\u001b[0m\u001b[0mplot\u001b[0m\u001b[0;34m(\u001b[0m\u001b[0mx_axis\u001b[0m\u001b[0;34m,\u001b[0m\u001b[0mcases_results_MAE\u001b[0m\u001b[0;34m,\u001b[0m\u001b[0;34m'bo'\u001b[0m\u001b[0;34m)\u001b[0m\u001b[0;34m\u001b[0m\u001b[0;34m\u001b[0m\u001b[0m\n\u001b[1;32m      2\u001b[0m \u001b[0mplt\u001b[0m\u001b[0;34m.\u001b[0m\u001b[0mplot\u001b[0m\u001b[0;34m(\u001b[0m\u001b[0mx_axis\u001b[0m\u001b[0;34m,\u001b[0m\u001b[0mcases_results_RMSE\u001b[0m\u001b[0;34m,\u001b[0m\u001b[0;34m'go'\u001b[0m\u001b[0;34m)\u001b[0m\u001b[0;34m\u001b[0m\u001b[0;34m\u001b[0m\u001b[0m\n\u001b[0;32m----> 3\u001b[0;31m \u001b[0mplt\u001b[0m\u001b[0;34m.\u001b[0m\u001b[0mplot\u001b[0m\u001b[0;34m(\u001b[0m\u001b[0mx_axis\u001b[0m\u001b[0;34m,\u001b[0m\u001b[0mcases_results_MAE\u001b[0m\u001b[0;34m*\u001b[0m\u001b[0mlen\u001b[0m\u001b[0;34m(\u001b[0m\u001b[0mx\u001b[0m\u001b[0;34m)\u001b[0m\u001b[0;34m,\u001b[0m\u001b[0;34m'ro'\u001b[0m\u001b[0;34m)\u001b[0m\u001b[0;34m\u001b[0m\u001b[0;34m\u001b[0m\u001b[0m\n\u001b[0m",
      "\u001b[0;31mNameError\u001b[0m: name 'x' is not defined"
     ]
    },
    {
     "data": {
      "image/png": "[encoded data removed]",
      "text/plain": [
       "<Figure size 432x288 with 1 Axes>"
      ]
     },
     "metadata": {
      "needs_background": "light"
     },
     "output_type": "display_data"
    }
   ],
   "source": [
    "plt.plot(x_axis,cases_results_MAE,'bo')\n",
    "plt.plot(x_axis,cases_results_RMSE,'go')\n",
    "plt.plot(x_axis,cases_results_MAE*len(x),'ro')"
   ]
  },
  {
   "cell_type": "code",
   "execution_count": null,
   "metadata": {},
   "outputs": [],
   "source": [
    "plt.plot(x_axis,cases_score,'yo')\n",
    "plt.plot(x_axis,deaths_score,'ko')"
   ]
  },
  {
   "cell_type": "code",
   "execution_count": 43,
   "metadata": {},
   "outputs": [],
   "source": [
    "x_date = date(2020,3,29)\n",
    "y_date = date(2020,4,26)\n",
    "   \n",
    "x_days = {'population_density_per_sqmi'}\n",
    "for i in range(0,28):\n",
    "    s = x_date + timedelta(days=i)\n",
    "    x_days.add(s.strftime(\"%-m/%-d/%y\"))\n",
    "y_days = {y_date.strftime(\"%-m/%-d/%y\")}\n",
    "for i in range(1,14):\n",
    "    s = y_date + timedelta(days=i)\n",
    "    y_days.add(s.strftime(\"%-m/%-d/%y\"))\n",
    "       \n",
    "X_train = cases.filter(x_days)\n",
    "y_train = cases.filter(y_days)\n",
    "    \n",
    "X_test = cases.filter(testx)\n",
    "y_test = cases.filter(testy)\n",
    "    \n",
    "reg_case = MLPRegressor(random_state=1, max_iter=1500).fit(X_train,y_train)"
   ]
  },
  {
   "cell_type": "code",
   "execution_count": 44,
   "metadata": {},
   "outputs": [
    {
     "data": {
      "text/plain": [
       "<AxesSubplot:xlabel='Date', ylabel='Number of New COVID-19 Cases'>"
      ]
     },
     "execution_count": 44,
     "metadata": {},
     "output_type": "execute_result"
    },
    {
     "data": {
      "image/png": "[encoded data removed]",
      "text/plain": [
       "<Figure size 432x288 with 1 Axes>"
      ]
     },
     "metadata": {
      "needs_background": "light"
     },
     "output_type": "display_data"
    }
   ],
   "source": [
    "pred = reg_case.predict(X_test).astype(int)\n",
    "y1_train = pd.DataFrame(data=pred[1000],columns=['Predicted'])\n",
    "y1_test = y_test.iloc[1000]\n",
    "y1_train.plot.line(ylim=(0,2000),xlabel='Date',ylabel='Number of New COVID-19 Cases')\n",
    "y1_test.plot.line(label='Actual')"
   ]
  },
  {
   "cell_type": "code",
   "execution_count": 48,
   "metadata": {},
   "outputs": [],
   "source": [
    "x_date = date(2020,8,30)\n",
    "y_date = date(2020,9,27)\n",
    "   \n",
    "x_days = {'population_density_per_sqmi'}\n",
    "for i in range(0,28):\n",
    "    s = x_date + timedelta(days=i)\n",
    "    x_days.add(s.strftime(\"%-m/%-d/%y\"))\n",
    "y_days = {y_date.strftime(\"%-m/%-d/%y\")}\n",
    "for i in range(1,14):\n",
    "    s = y_date + timedelta(days=i)\n",
    "    y_days.add(s.strftime(\"%-m/%-d/%y\"))\n",
    "       \n",
    "X_train = deaths.filter(x_days)\n",
    "y_train = deaths.filter(y_days)\n",
    "    \n",
    "X_test = deaths.filter(testx)\n",
    "y_test = deaths.filter(testy)\n",
    "    \n",
    "reg_death = MLPRegressor(random_state=1, max_iter=1500).fit(X_train,y_train)"
   ]
  },
  {
   "cell_type": "code",
   "execution_count": 49,
   "metadata": {},
   "outputs": [
    {
     "data": {
      "text/plain": [
       "<AxesSubplot:xlabel='Date', ylabel='Number of New COVID-19 Deaths'>"
      ]
     },
     "execution_count": 49,
     "metadata": {},
     "output_type": "execute_result"
    },
    {
     "data": {
      "image/png": "[encoded data removed]",
      "text/plain": [
       "<Figure size 432x288 with 1 Axes>"
      ]
     },
     "metadata": {
      "needs_background": "light"
     },
     "output_type": "display_data"
    }
   ],
   "source": [
    "pred = reg_death.predict(X_test).astype(int)\n",
    "y1_train = pd.DataFrame(data=pred[1000],columns=['Predicted'])\n",
    "y1_test = y_test.iloc[1000]\n",
    "y1_train.plot.line(ylim=(0,40),xlabel='Date',ylabel='Number of New COVID-19 Deaths')\n",
    "y1_test.plot.line(label='Actual')"
   ]
  },
  {
   "cell_type": "code",
   "execution_count": 50,
   "metadata": {},
   "outputs": [
    {
     "data": {
      "text/html": [
       "<div>\n",
       "<style scoped>\n",
       "    .dataframe tbody tr th:only-of-type {\n",
       "        vertical-align: middle;\n",
       "    }\n",
       "\n",
       "    .dataframe tbody tr th {\n",
       "        vertical-align: top;\n",
       "    }\n",
       "\n",
       "    .dataframe thead th {\n",
       "        text-align: right;\n",
       "    }\n",
       "</style>\n",
       "<table border=\"1\" class=\"dataframe\">\n",
       "  <thead>\n",
       "    <tr style=\"text-align: right;\">\n",
       "      <th></th>\n",
       "      <th>Predicted</th>\n",
       "    </tr>\n",
       "  </thead>\n",
       "  <tbody>\n",
       "    <tr>\n",
       "      <th>0</th>\n",
       "      <td>24</td>\n",
       "    </tr>\n",
       "    <tr>\n",
       "      <th>1</th>\n",
       "      <td>27</td>\n",
       "    </tr>\n",
       "    <tr>\n",
       "      <th>2</th>\n",
       "      <td>26</td>\n",
       "    </tr>\n",
       "    <tr>\n",
       "      <th>3</th>\n",
       "      <td>26</td>\n",
       "    </tr>\n",
       "    <tr>\n",
       "      <th>4</th>\n",
       "      <td>26</td>\n",
       "    </tr>\n",
       "    <tr>\n",
       "      <th>5</th>\n",
       "      <td>26</td>\n",
       "    </tr>\n",
       "    <tr>\n",
       "      <th>6</th>\n",
       "      <td>26</td>\n",
       "    </tr>\n",
       "    <tr>\n",
       "      <th>7</th>\n",
       "      <td>26</td>\n",
       "    </tr>\n",
       "    <tr>\n",
       "      <th>8</th>\n",
       "      <td>26</td>\n",
       "    </tr>\n",
       "    <tr>\n",
       "      <th>9</th>\n",
       "      <td>27</td>\n",
       "    </tr>\n",
       "    <tr>\n",
       "      <th>10</th>\n",
       "      <td>26</td>\n",
       "    </tr>\n",
       "    <tr>\n",
       "      <th>11</th>\n",
       "      <td>27</td>\n",
       "    </tr>\n",
       "    <tr>\n",
       "      <th>12</th>\n",
       "      <td>25</td>\n",
       "    </tr>\n",
       "    <tr>\n",
       "      <th>13</th>\n",
       "      <td>25</td>\n",
       "    </tr>\n",
       "  </tbody>\n",
       "</table>\n",
       "</div>"
      ],
      "text/plain": [
       "    Predicted\n",
       "0          24\n",
       "1          27\n",
       "2          26\n",
       "3          26\n",
       "4          26\n",
       "5          26\n",
       "6          26\n",
       "7          26\n",
       "8          26\n",
       "9          27\n",
       "10         26\n",
       "11         27\n",
       "12         25\n",
       "13         25"
      ]
     },
     "execution_count": 50,
     "metadata": {},
     "output_type": "execute_result"
    }
   ],
   "source": [
    "y1_train"
   ]
  },
  {
   "cell_type": "code",
   "execution_count": 51,
   "metadata": {},
   "outputs": [
    {
     "data": {
      "text/plain": [
       "1/5/21      29\n",
       "1/4/21      29\n",
       "1/2/21      29\n",
       "1/11/21     30\n",
       "12/30/20    28\n",
       "12/31/20    29\n",
       "1/6/21      29\n",
       "1/9/21      30\n",
       "12/29/20    28\n",
       "1/1/21      29\n",
       "1/10/21     30\n",
       "1/7/21      29\n",
       "1/3/21      29\n",
       "1/8/21      30\n",
       "Name: 3166, dtype: int64"
      ]
     },
     "execution_count": 51,
     "metadata": {},
     "output_type": "execute_result"
    }
   ],
   "source": [
    "y1_test"
   ]
  },
  {
   "cell_type": "code",
   "execution_count": null,
   "metadata": {},
   "outputs": [],
   "source": []
  }
 ],
 "metadata": {
  "kernelspec": {
   "display_name": "Python 3",
   "language": "python",
   "name": "python3"
  },
  "language_info": {
   "codemirror_mode": {
    "name": "ipython",
    "version": 3
   },
   "file_extension": ".py",
   "mimetype": "text/x-python",
   "name": "python",
   "nbconvert_exporter": "python",
   "pygments_lexer": "ipython3",
   "version": "3.8.5"
  }
 },
 "nbformat": 4,
 "nbformat_minor": 4
}
