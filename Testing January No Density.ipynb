{
 "cells": [
  {
   "cell_type": "markdown",
   "metadata": {},
   "source": [
    "This notebook takes 1 March - 31 October. It uses 4 weeks of data to predict the next 2 weeks"
   ]
  },
  {
   "cell_type": "code",
   "execution_count": 1,
   "metadata": {},
   "outputs": [],
   "source": [
    "import numpy as np\n",
    "import matplotlib.pylab as plt\n",
    "from pandas import read_csv\n",
    "import matplotlib.pyplot\n",
    "import pandas as pd\n",
    "from sklearn import preprocessing\n",
    "from sklearn.model_selection import train_test_split\n",
    "from sklearn.neural_network import MLPRegressor\n",
    "from sklearn.datasets import make_regression\n",
    "from sklearn.metrics import mean_absolute_error\n",
    "from sklearn.metrics import mean_squared_error\n",
    "from datetime import date, timedelta\n",
    "from sklearn.metrics import r2_score"
   ]
  },
  {
   "cell_type": "code",
   "execution_count": 2,
   "metadata": {},
   "outputs": [],
   "source": [
    "cases = pd.read_csv(\"time_series_covid19_confirmed_US.csv\")\n",
    "deaths  = pd.read_csv(\"time_series_covid19_deaths_US.csv\")\n",
    "density = pd.read_csv(\"popden.csv\")"
   ]
  },
  {
   "cell_type": "code",
   "execution_count": 3,
   "metadata": {},
   "outputs": [],
   "source": [
    "fips = cases[(cases['10/31/20']<10000)]\n",
    "fips = fips[(fips['10/31/20']>1000)]\n",
    "\n",
    "f = fips['FIPS'].tolist()\n",
    "cases = cases[cases['FIPS'].isin(f)]\n",
    "deaths = deaths[deaths['FIPS'].isin(f)]"
   ]
  },
  {
   "cell_type": "code",
   "execution_count": 4,
   "metadata": {},
   "outputs": [],
   "source": [
    "density.drop_duplicates(subset=['fips'],keep='last',inplace=True)\n",
    "\n",
    "strings = {'NMR','PR','VI','KSC','NYC'}\n",
    "index_names = density[(density['fips']).isin(strings)].index\n",
    "density.drop(index_names, inplace=True)\n",
    "\n",
    "density['fips']=density['fips'].astype(float)"
   ]
  },
  {
   "cell_type": "code",
   "execution_count": 5,
   "metadata": {},
   "outputs": [],
   "source": [
    "c = pd.merge(cases,density, left_on='FIPS',right_on='fips')\n",
    "d = pd.merge(deaths,density, left_on='FIPS',right_on='fips')"
   ]
  },
  {
   "cell_type": "code",
   "execution_count": 6,
   "metadata": {},
   "outputs": [],
   "source": [
    "col = {'UID','iso2','iso3','code3','FIPS','Admin2','Province_State','Country_Region','Lat','Long_','Combined_Key','date','county','state','fips','cases','deaths','stay_at_home_announced','stay_at_home_effective','lat','lon','total_population','area_sqmi'}\n",
    "c.drop(c.columns[c.columns.isin(col)],axis=1,inplace=True)\n",
    "d.drop(d.columns[d.columns.isin(col)],axis=1,inplace=True)"
   ]
  },
  {
   "cell_type": "code",
   "execution_count": 7,
   "metadata": {},
   "outputs": [],
   "source": [
    "from sklearn.preprocessing import minmax_scale\n",
    "d['population_density_per_sqmi']=minmax_scale(d['population_density_per_sqmi'])\n",
    "c['population_density_per_sqmi']=minmax_scale(c['population_density_per_sqmi'])"
   ]
  },
  {
   "cell_type": "code",
   "execution_count": 8,
   "metadata": {},
   "outputs": [
    {
     "data": {
      "text/html": [
       "<div>\n",
       "<style scoped>\n",
       "    .dataframe tbody tr th:only-of-type {\n",
       "        vertical-align: middle;\n",
       "    }\n",
       "\n",
       "    .dataframe tbody tr th {\n",
       "        vertical-align: top;\n",
       "    }\n",
       "\n",
       "    .dataframe thead th {\n",
       "        text-align: right;\n",
       "    }\n",
       "</style>\n",
       "<table border=\"1\" class=\"dataframe\">\n",
       "  <thead>\n",
       "    <tr style=\"text-align: right;\">\n",
       "      <th></th>\n",
       "      <th>1/22/20</th>\n",
       "      <th>1/23/20</th>\n",
       "      <th>1/24/20</th>\n",
       "      <th>1/25/20</th>\n",
       "      <th>1/26/20</th>\n",
       "      <th>1/27/20</th>\n",
       "      <th>1/28/20</th>\n",
       "      <th>1/29/20</th>\n",
       "      <th>1/30/20</th>\n",
       "      <th>1/31/20</th>\n",
       "      <th>...</th>\n",
       "      <th>2/16/21</th>\n",
       "      <th>2/17/21</th>\n",
       "      <th>2/18/21</th>\n",
       "      <th>2/19/21</th>\n",
       "      <th>2/20/21</th>\n",
       "      <th>2/21/21</th>\n",
       "      <th>2/22/21</th>\n",
       "      <th>2/23/21</th>\n",
       "      <th>2/24/21</th>\n",
       "      <th>population_density_per_sqmi</th>\n",
       "    </tr>\n",
       "  </thead>\n",
       "  <tbody>\n",
       "    <tr>\n",
       "      <th>0</th>\n",
       "      <td>0</td>\n",
       "      <td>0</td>\n",
       "      <td>0</td>\n",
       "      <td>0</td>\n",
       "      <td>0</td>\n",
       "      <td>0</td>\n",
       "      <td>0</td>\n",
       "      <td>0</td>\n",
       "      <td>0</td>\n",
       "      <td>0</td>\n",
       "      <td>...</td>\n",
       "      <td>6038</td>\n",
       "      <td>6050</td>\n",
       "      <td>6071</td>\n",
       "      <td>6079</td>\n",
       "      <td>6092</td>\n",
       "      <td>6117</td>\n",
       "      <td>6121</td>\n",
       "      <td>6143</td>\n",
       "      <td>6172</td>\n",
       "      <td>0.008940</td>\n",
       "    </tr>\n",
       "    <tr>\n",
       "      <th>1</th>\n",
       "      <td>0</td>\n",
       "      <td>0</td>\n",
       "      <td>0</td>\n",
       "      <td>0</td>\n",
       "      <td>0</td>\n",
       "      <td>0</td>\n",
       "      <td>0</td>\n",
       "      <td>0</td>\n",
       "      <td>0</td>\n",
       "      <td>0</td>\n",
       "      <td>...</td>\n",
       "      <td>19176</td>\n",
       "      <td>19267</td>\n",
       "      <td>19324</td>\n",
       "      <td>19361</td>\n",
       "      <td>19392</td>\n",
       "      <td>19433</td>\n",
       "      <td>19461</td>\n",
       "      <td>19554</td>\n",
       "      <td>19635</td>\n",
       "      <td>0.012209</td>\n",
       "    </tr>\n",
       "    <tr>\n",
       "      <th>2</th>\n",
       "      <td>0</td>\n",
       "      <td>0</td>\n",
       "      <td>0</td>\n",
       "      <td>0</td>\n",
       "      <td>0</td>\n",
       "      <td>0</td>\n",
       "      <td>0</td>\n",
       "      <td>0</td>\n",
       "      <td>0</td>\n",
       "      <td>0</td>\n",
       "      <td>...</td>\n",
       "      <td>2055</td>\n",
       "      <td>2053</td>\n",
       "      <td>2057</td>\n",
       "      <td>2061</td>\n",
       "      <td>2067</td>\n",
       "      <td>2070</td>\n",
       "      <td>2074</td>\n",
       "      <td>2084</td>\n",
       "      <td>2095</td>\n",
       "      <td>0.002726</td>\n",
       "    </tr>\n",
       "    <tr>\n",
       "      <th>3</th>\n",
       "      <td>0</td>\n",
       "      <td>0</td>\n",
       "      <td>0</td>\n",
       "      <td>0</td>\n",
       "      <td>0</td>\n",
       "      <td>0</td>\n",
       "      <td>0</td>\n",
       "      <td>0</td>\n",
       "      <td>0</td>\n",
       "      <td>0</td>\n",
       "      <td>...</td>\n",
       "      <td>5987</td>\n",
       "      <td>5997</td>\n",
       "      <td>6008</td>\n",
       "      <td>6021</td>\n",
       "      <td>6040</td>\n",
       "      <td>6042</td>\n",
       "      <td>6043</td>\n",
       "      <td>6058</td>\n",
       "      <td>6072</td>\n",
       "      <td>0.008631</td>\n",
       "    </tr>\n",
       "    <tr>\n",
       "      <th>4</th>\n",
       "      <td>0</td>\n",
       "      <td>0</td>\n",
       "      <td>0</td>\n",
       "      <td>0</td>\n",
       "      <td>0</td>\n",
       "      <td>0</td>\n",
       "      <td>0</td>\n",
       "      <td>0</td>\n",
       "      <td>0</td>\n",
       "      <td>0</td>\n",
       "      <td>...</td>\n",
       "      <td>1910</td>\n",
       "      <td>1924</td>\n",
       "      <td>1930</td>\n",
       "      <td>1934</td>\n",
       "      <td>1938</td>\n",
       "      <td>1940</td>\n",
       "      <td>1945</td>\n",
       "      <td>1948</td>\n",
       "      <td>1951</td>\n",
       "      <td>0.002332</td>\n",
       "    </tr>\n",
       "    <tr>\n",
       "      <th>...</th>\n",
       "      <td>...</td>\n",
       "      <td>...</td>\n",
       "      <td>...</td>\n",
       "      <td>...</td>\n",
       "      <td>...</td>\n",
       "      <td>...</td>\n",
       "      <td>...</td>\n",
       "      <td>...</td>\n",
       "      <td>...</td>\n",
       "      <td>...</td>\n",
       "      <td>...</td>\n",
       "      <td>...</td>\n",
       "      <td>...</td>\n",
       "      <td>...</td>\n",
       "      <td>...</td>\n",
       "      <td>...</td>\n",
       "      <td>...</td>\n",
       "      <td>...</td>\n",
       "      <td>...</td>\n",
       "      <td>...</td>\n",
       "      <td>...</td>\n",
       "    </tr>\n",
       "    <tr>\n",
       "      <th>1032</th>\n",
       "      <td>0</td>\n",
       "      <td>0</td>\n",
       "      <td>0</td>\n",
       "      <td>0</td>\n",
       "      <td>0</td>\n",
       "      <td>0</td>\n",
       "      <td>0</td>\n",
       "      <td>0</td>\n",
       "      <td>0</td>\n",
       "      <td>0</td>\n",
       "      <td>...</td>\n",
       "      <td>3867</td>\n",
       "      <td>3871</td>\n",
       "      <td>3871</td>\n",
       "      <td>3880</td>\n",
       "      <td>3880</td>\n",
       "      <td>3887</td>\n",
       "      <td>3893</td>\n",
       "      <td>3892</td>\n",
       "      <td>3893</td>\n",
       "      <td>0.000617</td>\n",
       "    </tr>\n",
       "    <tr>\n",
       "      <th>1033</th>\n",
       "      <td>0</td>\n",
       "      <td>0</td>\n",
       "      <td>0</td>\n",
       "      <td>0</td>\n",
       "      <td>0</td>\n",
       "      <td>0</td>\n",
       "      <td>0</td>\n",
       "      <td>0</td>\n",
       "      <td>0</td>\n",
       "      <td>0</td>\n",
       "      <td>...</td>\n",
       "      <td>4639</td>\n",
       "      <td>4643</td>\n",
       "      <td>4643</td>\n",
       "      <td>4646</td>\n",
       "      <td>4646</td>\n",
       "      <td>4647</td>\n",
       "      <td>4649</td>\n",
       "      <td>4652</td>\n",
       "      <td>4655</td>\n",
       "      <td>0.000740</td>\n",
       "    </tr>\n",
       "    <tr>\n",
       "      <th>1034</th>\n",
       "      <td>0</td>\n",
       "      <td>0</td>\n",
       "      <td>0</td>\n",
       "      <td>0</td>\n",
       "      <td>0</td>\n",
       "      <td>0</td>\n",
       "      <td>0</td>\n",
       "      <td>0</td>\n",
       "      <td>0</td>\n",
       "      <td>0</td>\n",
       "      <td>...</td>\n",
       "      <td>4718</td>\n",
       "      <td>4743</td>\n",
       "      <td>4754</td>\n",
       "      <td>4764</td>\n",
       "      <td>4764</td>\n",
       "      <td>4792</td>\n",
       "      <td>4810</td>\n",
       "      <td>4816</td>\n",
       "      <td>4825</td>\n",
       "      <td>0.000177</td>\n",
       "    </tr>\n",
       "    <tr>\n",
       "      <th>1035</th>\n",
       "      <td>0</td>\n",
       "      <td>0</td>\n",
       "      <td>0</td>\n",
       "      <td>0</td>\n",
       "      <td>0</td>\n",
       "      <td>0</td>\n",
       "      <td>0</td>\n",
       "      <td>0</td>\n",
       "      <td>0</td>\n",
       "      <td>0</td>\n",
       "      <td>...</td>\n",
       "      <td>8098</td>\n",
       "      <td>8109</td>\n",
       "      <td>8116</td>\n",
       "      <td>8122</td>\n",
       "      <td>8122</td>\n",
       "      <td>8126</td>\n",
       "      <td>8135</td>\n",
       "      <td>8141</td>\n",
       "      <td>8145</td>\n",
       "      <td>0.003306</td>\n",
       "    </tr>\n",
       "    <tr>\n",
       "      <th>1036</th>\n",
       "      <td>0</td>\n",
       "      <td>0</td>\n",
       "      <td>0</td>\n",
       "      <td>0</td>\n",
       "      <td>0</td>\n",
       "      <td>0</td>\n",
       "      <td>0</td>\n",
       "      <td>0</td>\n",
       "      <td>0</td>\n",
       "      <td>0</td>\n",
       "      <td>...</td>\n",
       "      <td>7632</td>\n",
       "      <td>7640</td>\n",
       "      <td>7646</td>\n",
       "      <td>7658</td>\n",
       "      <td>7658</td>\n",
       "      <td>7669</td>\n",
       "      <td>7674</td>\n",
       "      <td>7678</td>\n",
       "      <td>7684</td>\n",
       "      <td>0.001242</td>\n",
       "    </tr>\n",
       "  </tbody>\n",
       "</table>\n",
       "<p>1037 rows × 401 columns</p>\n",
       "</div>"
      ],
      "text/plain": [
       "      1/22/20  1/23/20  1/24/20  1/25/20  1/26/20  1/27/20  1/28/20  1/29/20  \\\n",
       "0           0        0        0        0        0        0        0        0   \n",
       "1           0        0        0        0        0        0        0        0   \n",
       "2           0        0        0        0        0        0        0        0   \n",
       "3           0        0        0        0        0        0        0        0   \n",
       "4           0        0        0        0        0        0        0        0   \n",
       "...       ...      ...      ...      ...      ...      ...      ...      ...   \n",
       "1032        0        0        0        0        0        0        0        0   \n",
       "1033        0        0        0        0        0        0        0        0   \n",
       "1034        0        0        0        0        0        0        0        0   \n",
       "1035        0        0        0        0        0        0        0        0   \n",
       "1036        0        0        0        0        0        0        0        0   \n",
       "\n",
       "      1/30/20  1/31/20  ...  2/16/21  2/17/21  2/18/21  2/19/21  2/20/21  \\\n",
       "0           0        0  ...     6038     6050     6071     6079     6092   \n",
       "1           0        0  ...    19176    19267    19324    19361    19392   \n",
       "2           0        0  ...     2055     2053     2057     2061     2067   \n",
       "3           0        0  ...     5987     5997     6008     6021     6040   \n",
       "4           0        0  ...     1910     1924     1930     1934     1938   \n",
       "...       ...      ...  ...      ...      ...      ...      ...      ...   \n",
       "1032        0        0  ...     3867     3871     3871     3880     3880   \n",
       "1033        0        0  ...     4639     4643     4643     4646     4646   \n",
       "1034        0        0  ...     4718     4743     4754     4764     4764   \n",
       "1035        0        0  ...     8098     8109     8116     8122     8122   \n",
       "1036        0        0  ...     7632     7640     7646     7658     7658   \n",
       "\n",
       "      2/21/21  2/22/21  2/23/21  2/24/21  population_density_per_sqmi  \n",
       "0        6117     6121     6143     6172                     0.008940  \n",
       "1       19433    19461    19554    19635                     0.012209  \n",
       "2        2070     2074     2084     2095                     0.002726  \n",
       "3        6042     6043     6058     6072                     0.008631  \n",
       "4        1940     1945     1948     1951                     0.002332  \n",
       "...       ...      ...      ...      ...                          ...  \n",
       "1032     3887     3893     3892     3893                     0.000617  \n",
       "1033     4647     4649     4652     4655                     0.000740  \n",
       "1034     4792     4810     4816     4825                     0.000177  \n",
       "1035     8126     8135     8141     8145                     0.003306  \n",
       "1036     7669     7674     7678     7684                     0.001242  \n",
       "\n",
       "[1037 rows x 401 columns]"
      ]
     },
     "execution_count": 8,
     "metadata": {},
     "output_type": "execute_result"
    }
   ],
   "source": [
    "c"
   ]
  },
  {
   "cell_type": "code",
   "execution_count": 9,
   "metadata": {},
   "outputs": [],
   "source": [
    "cases.fillna(0,inplace=True)\n",
    "deaths.fillna(0,inplace=True)\n",
    "\n",
    "deaths_results_MAE = np.zeros(15)\n",
    "cases_results_MAE = np.zeros(15)\n",
    "\n",
    "deaths_results_RMSE = np.zeros(15)\n",
    "cases_results_RMSE = np.zeros(15)\n",
    "\n",
    "deaths_score = np.zeros(15)\n",
    "cases_score = np.zeros(15)"
   ]
  },
  {
   "cell_type": "code",
   "execution_count": 10,
   "metadata": {},
   "outputs": [],
   "source": [
    "testx = {'population_density_per_sqmi'}\n",
    "for i in range(1,29):\n",
    "    s = '12/'+str(i)+'/20'\n",
    "    testx.add(s)\n",
    "testy = {'12/29/20'}\n",
    "for i in range(30,32):\n",
    "    s = '12/'+str(i)+'/20'\n",
    "    testy.add(s)\n",
    "for i in range(1,12):\n",
    "    s = '1/'+str(i)+'/21'\n",
    "    testy.add(s)"
   ]
  },
  {
   "cell_type": "code",
   "execution_count": 11,
   "metadata": {},
   "outputs": [
    {
     "name": "stderr",
     "output_type": "stream",
     "text": [
      "/root/anaconda3/lib/python3.8/site-packages/sklearn/neural_network/_multilayer_perceptron.py:582: ConvergenceWarning: Stochastic Optimizer: Maximum iterations (1500) reached and the optimization hasn't converged yet.\n",
      "  warnings.warn(\n"
     ]
    }
   ],
   "source": [
    "x_date = date(2020,3,1)\n",
    "y_date = date(2020,3,29)\n",
    "delta = timedelta(days=14)\n",
    "\n",
    "for j in range (0,15):\n",
    "    \n",
    "    x_days = {x_date.strftime(\"%-m/%-d/%y\")}\n",
    "    for i in range(1,28):\n",
    "        s = x_date + timedelta(days=i)\n",
    "        x_days.add(s.strftime(\"%-m/%-d/%y\"))\n",
    "    y_days = {y_date.strftime(\"%-m/%-d/%y\")}\n",
    "    for i in range(1,14):\n",
    "        s = y_date + timedelta(days=i)\n",
    "        y_days.add(s.strftime(\"%-m/%-d/%y\"))\n",
    "       \n",
    "    X_train =deaths.filter(x_days)\n",
    "    y_train = deaths.filter(y_days)\n",
    "    \n",
    "    X_test = deaths.filter(testx)\n",
    "    y_test = deaths.filter(testy)\n",
    "    \n",
    "    \n",
    "    #X_train, X_test, y_train, y_test = train_test_split(x,y,test_size=.2,random_state=42)\n",
    "    reg = MLPRegressor(random_state=1, max_iter=1500).fit(X_train,y_train)\n",
    "    deaths_results_MAE[j]=mean_absolute_error(y_test.astype(int),reg.predict(X_test).astype(int))\n",
    "    deaths_results_RMSE[j]=mean_squared_error(y_test.astype(int),reg.predict(X_test).astype(int))\n",
    "    deaths_score[j] = r2_score(y_test,reg.predict(X_test))\n",
    "    x_date += delta\n",
    "    y_date += delta"
   ]
  },
  {
   "cell_type": "code",
   "execution_count": 12,
   "metadata": {},
   "outputs": [
    {
     "data": {
      "text/plain": [
       "array([7.74545755e+05, 6.25626317e+03, 3.84255992e+03, 8.72625525e+02,\n",
       "       7.31631957e+02, 1.57886188e+03, 1.64586723e+03, 7.74682668e+02,\n",
       "       8.42689777e+02, 1.63581598e+03, 4.61565403e+02, 1.28651997e+03,\n",
       "       1.30450961e+03, 1.44213920e+03, 9.56532634e+02])"
      ]
     },
     "execution_count": 12,
     "metadata": {},
     "output_type": "execute_result"
    }
   ],
   "source": [
    "deaths_results_RMSE"
   ]
  },
  {
   "cell_type": "code",
   "execution_count": 13,
   "metadata": {},
   "outputs": [
    {
     "data": {
      "text/plain": [
       "array([403.57237644,  46.94346649,  33.34691943,  14.7761002 ,\n",
       "        13.96222072,  23.70765064,  22.98436019,  14.64881517,\n",
       "        16.16858497,  23.57102234,  12.03297224,  21.30128639,\n",
       "        20.87197021,  22.13039946,  17.82999323])"
      ]
     },
     "execution_count": 13,
     "metadata": {},
     "output_type": "execute_result"
    }
   ],
   "source": [
    "deaths_results_MAE"
   ]
  },
  {
   "cell_type": "code",
   "execution_count": 14,
   "metadata": {},
   "outputs": [
    {
     "data": {
      "text/plain": [
       "array([-59.86892257,   0.51329274,   0.70988031,   0.93545832,\n",
       "         0.94512537,   0.88060879,   0.8763144 ,   0.94230539,\n",
       "         0.93762487,   0.87580753,   0.9661549 ,   0.90336228,\n",
       "         0.90199883,   0.89175707,   0.92824768])"
      ]
     },
     "execution_count": 14,
     "metadata": {},
     "output_type": "execute_result"
    }
   ],
   "source": [
    "deaths_score"
   ]
  },
  {
   "cell_type": "code",
   "execution_count": 15,
   "metadata": {},
   "outputs": [],
   "source": [
    "x_date = date(2020,3,1)\n",
    "y_date = date(2020,3,29)\n",
    "delta = timedelta(days=14)\n",
    "\n",
    "for j in range (0,15):\n",
    "    \n",
    "    x_days = {x_date.strftime(\"%-m/%-d/%y\")}\n",
    "    for i in range(1,28):\n",
    "        s = x_date + timedelta(days=i)\n",
    "        x_days.add(s.strftime(\"%-m/%-d/%y\"))\n",
    "    y_days = {y_date.strftime(\"%-m/%-d/%y\")}\n",
    "    for i in range(1,14):\n",
    "        s = y_date + timedelta(days=i)\n",
    "        y_days.add(s.strftime(\"%-m/%-d/%y\"))\n",
    "       \n",
    "    X_train = cases.filter(x_days)\n",
    "    y_train = cases.filter(y_days)\n",
    "    \n",
    "    X_test = cases.filter(testx)\n",
    "    y_test = cases.filter(testy)\n",
    "    \n",
    "    #X_train, X_test, y_train, y_test = train_test_split(x,y,test_size=.2,random_state=42)\n",
    "    reg = MLPRegressor(random_state=1, max_iter=1500).fit(X_train,y_train)\n",
    "    cases_results_MAE[j]=mean_absolute_error(y_test.astype(int),reg.predict(X_test).astype(int))\n",
    "    cases_results_RMSE[j]=mean_squared_error(y_test.astype(int),reg.predict(X_test).astype(int))\n",
    "    cases_score[j] = r2_score(y_test,reg.predict(X_test))\n",
    "    x_date += delta\n",
    "    y_date += delta"
   ]
  },
  {
   "cell_type": "code",
   "execution_count": 16,
   "metadata": {},
   "outputs": [
    {
     "data": {
      "text/plain": [
       "array([21354.85321598,  2151.6098172 ,  1268.07027759,   983.16736628,\n",
       "        1502.88984428,  1121.22566012,  1451.48510494,  1300.12153013,\n",
       "         725.68849018,  1335.94062288,   841.06289777,  1483.90656737,\n",
       "        1366.57677725,  1515.25883548,  1312.02058226])"
      ]
     },
     "execution_count": 16,
     "metadata": {},
     "output_type": "execute_result"
    }
   ],
   "source": [
    "cases_results_MAE"
   ]
  },
  {
   "cell_type": "code",
   "execution_count": 17,
   "metadata": {},
   "outputs": [
    {
     "data": {
      "text/plain": [
       "array([1.39528051e+09, 9.72705904e+06, 3.69578036e+06, 2.59056003e+06,\n",
       "       4.38268139e+06, 2.62258520e+06, 4.32028493e+06, 3.59612649e+06,\n",
       "       1.46826464e+06, 3.82187446e+06, 1.57028315e+06, 4.24398075e+06,\n",
       "       3.77558974e+06, 4.59615402e+06, 3.54938228e+06])"
      ]
     },
     "execution_count": 17,
     "metadata": {},
     "output_type": "execute_result"
    }
   ],
   "source": [
    "cases_results_RMSE"
   ]
  },
  {
   "cell_type": "code",
   "execution_count": 18,
   "metadata": {},
   "outputs": [
    {
     "data": {
      "text/plain": [
       "array([-47.78997426,   0.66963482,   0.8759063 ,   0.9161301 ,\n",
       "         0.85292508,   0.91223095,   0.85647065,   0.87933048,\n",
       "         0.9528111 ,   0.8721048 ,   0.94849844,   0.85795159,\n",
       "         0.87432541,   0.84626768,   0.88123666])"
      ]
     },
     "execution_count": 18,
     "metadata": {},
     "output_type": "execute_result"
    }
   ],
   "source": [
    "cases_score"
   ]
  },
  {
   "cell_type": "code",
   "execution_count": 21,
   "metadata": {},
   "outputs": [
    {
     "data": {
      "text/plain": [
       "[<matplotlib.lines.Line2D at 0x7f22f18c1760>]"
      ]
     },
     "execution_count": 21,
     "metadata": {},
     "output_type": "execute_result"
    },
    {
     "data": {
      "image/png": "[encoded data removed]",
      "text/plain": [
       "<Figure size 432x288 with 1 Axes>"
      ]
     },
     "metadata": {
      "needs_background": "light"
     },
     "output_type": "display_data"
    }
   ],
   "source": [
    "x_axis = np.arange(0,15)\n",
    "plt.plot(x_axis[1:],deaths_results_MAE[1:],'bo')\n",
    "plt.plot(x_axis[1:],deaths_results_RMSE[1:],'go')\n",
    "#plt.plot(x_axis,deaths_results_MAE*len(x),'ro')"
   ]
  },
  {
   "cell_type": "code",
   "execution_count": 20,
   "metadata": {},
   "outputs": [
    {
     "ename": "NameError",
     "evalue": "name 'x' is not defined",
     "output_type": "error",
     "traceback": [
      "\u001b[0;31m---------------------------------------------------------------------------\u001b[0m",
      "\u001b[0;31mNameError\u001b[0m                                 Traceback (most recent call last)",
      "\u001b[0;32m<ipython-input-20-c380a7c84995>\u001b[0m in \u001b[0;36m<module>\u001b[0;34m\u001b[0m\n\u001b[1;32m      1\u001b[0m \u001b[0mplt\u001b[0m\u001b[0;34m.\u001b[0m\u001b[0mplot\u001b[0m\u001b[0;34m(\u001b[0m\u001b[0mx_axis\u001b[0m\u001b[0;34m,\u001b[0m\u001b[0mcases_results_MAE\u001b[0m\u001b[0;34m,\u001b[0m\u001b[0;34m'bo'\u001b[0m\u001b[0;34m)\u001b[0m\u001b[0;34m\u001b[0m\u001b[0;34m\u001b[0m\u001b[0m\n\u001b[1;32m      2\u001b[0m \u001b[0mplt\u001b[0m\u001b[0;34m.\u001b[0m\u001b[0mplot\u001b[0m\u001b[0;34m(\u001b[0m\u001b[0mx_axis\u001b[0m\u001b[0;34m,\u001b[0m\u001b[0mcases_results_RMSE\u001b[0m\u001b[0;34m,\u001b[0m\u001b[0;34m'go'\u001b[0m\u001b[0;34m)\u001b[0m\u001b[0;34m\u001b[0m\u001b[0;34m\u001b[0m\u001b[0m\n\u001b[0;32m----> 3\u001b[0;31m \u001b[0mplt\u001b[0m\u001b[0;34m.\u001b[0m\u001b[0mplot\u001b[0m\u001b[0;34m(\u001b[0m\u001b[0mx_axis\u001b[0m\u001b[0;34m,\u001b[0m\u001b[0mcases_results_MAE\u001b[0m\u001b[0;34m*\u001b[0m\u001b[0mlen\u001b[0m\u001b[0;34m(\u001b[0m\u001b[0mx\u001b[0m\u001b[0;34m)\u001b[0m\u001b[0;34m,\u001b[0m\u001b[0;34m'ro'\u001b[0m\u001b[0;34m)\u001b[0m\u001b[0;34m\u001b[0m\u001b[0;34m\u001b[0m\u001b[0m\n\u001b[0m",
      "\u001b[0;31mNameError\u001b[0m: name 'x' is not defined"
     ]
    },
    {
     "data": {
      "image/png": "[encoded data removed]",
      "text/plain": [
       "<Figure size 432x288 with 1 Axes>"
      ]
     },
     "metadata": {
      "needs_background": "light"
     },
     "output_type": "display_data"
    }
   ],
   "source": [
    "plt.plot(x_axis,cases_results_MAE,'bo')\n",
    "plt.plot(x_axis,cases_results_RMSE,'go')\n",
    "plt.plot(x_axis,cases_results_MAE*len(x),'ro')"
   ]
  },
  {
   "cell_type": "code",
   "execution_count": null,
   "metadata": {},
   "outputs": [],
   "source": [
    "plt.plot(x_axis,cases_score,'yo')\n",
    "plt.plot(x_axis,deaths_score,'ko')"
   ]
  }
 ],
 "metadata": {
  "kernelspec": {
   "display_name": "Python 3",
   "language": "python",
   "name": "python3"
  },
  "language_info": {
   "codemirror_mode": {
    "name": "ipython",
    "version": 3
   },
   "file_extension": ".py",
   "mimetype": "text/x-python",
   "name": "python",
   "nbconvert_exporter": "python",
   "pygments_lexer": "ipython3",
   "version": "3.8.5"
  }
 },
 "nbformat": 4,
 "nbformat_minor": 4
}
