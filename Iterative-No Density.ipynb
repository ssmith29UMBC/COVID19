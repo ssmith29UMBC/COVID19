{
 "cells": [
  {
   "cell_type": "markdown",
   "metadata": {},
   "source": [
    "This notebook takes 1 March - 31 October. It uses 4 weeks of data to predict the next 2 weeks"
   ]
  },
  {
   "cell_type": "code",
   "execution_count": 1,
   "metadata": {},
   "outputs": [],
   "source": [
    "import numpy as np\n",
    "import matplotlib.pylab as plt\n",
    "from pandas import read_csv\n",
    "import matplotlib.pyplot\n",
    "import pandas as pd\n",
    "from sklearn import preprocessing\n",
    "from sklearn.model_selection import train_test_split\n",
    "from sklearn.neural_network import MLPRegressor\n",
    "from sklearn.datasets import make_regression\n",
    "from sklearn.metrics import mean_absolute_error\n",
    "from sklearn.metrics import mean_squared_error\n",
    "from datetime import date, timedelta\n",
    "from sklearn.metrics import r2_score"
   ]
  },
  {
   "cell_type": "code",
   "execution_count": 2,
   "metadata": {},
   "outputs": [],
   "source": [
    "cases = pd.read_csv(\"time_series_covid19_confirmed_US.csv\")\n",
    "deaths  = pd.read_csv(\"time_series_covid19_deaths_US.csv\")\n",
    "density = pd.read_csv(\"popden.csv\")"
   ]
  },
  {
   "cell_type": "code",
   "execution_count": 3,
   "metadata": {},
   "outputs": [],
   "source": [
    "fips = cases[(cases['10/31/20']<10000)]\n",
    "fips = fips[(fips['10/31/20']>1000)]\n",
    "\n",
    "f = fips['FIPS'].tolist()\n",
    "cases = cases[cases['FIPS'].isin(f)]\n",
    "deaths = deaths[deaths['FIPS'].isin(f)]"
   ]
  },
  {
   "cell_type": "code",
   "execution_count": 4,
   "metadata": {},
   "outputs": [],
   "source": [
    "density.drop_duplicates(subset=['fips'],keep='last',inplace=True)\n",
    "\n",
    "strings = {'NMR','PR','VI','KSC','NYC'}\n",
    "index_names = density[(density['fips']).isin(strings)].index\n",
    "density.drop(index_names, inplace=True)\n",
    "\n",
    "density['fips']=density['fips'].astype(float)"
   ]
  },
  {
   "cell_type": "code",
   "execution_count": 5,
   "metadata": {},
   "outputs": [],
   "source": [
    "c = pd.merge(cases,density, left_on='FIPS',right_on='fips')\n",
    "d = pd.merge(deaths,density, left_on='FIPS',right_on='fips')"
   ]
  },
  {
   "cell_type": "code",
   "execution_count": 6,
   "metadata": {},
   "outputs": [],
   "source": [
    "col = {'UID','iso2','iso3','code3','FIPS','Admin2','Province_State','Country_Region','Lat','Long_','Combined_Key','date','county','state','fips','cases','deaths','stay_at_home_announced','stay_at_home_effective','lat','lon','total_population','area_sqmi'}\n",
    "c.drop(c.columns[c.columns.isin(col)],axis=1,inplace=True)\n",
    "d.drop(d.columns[d.columns.isin(col)],axis=1,inplace=True)"
   ]
  },
  {
   "cell_type": "code",
   "execution_count": 7,
   "metadata": {},
   "outputs": [],
   "source": [
    "from sklearn.preprocessing import minmax_scale\n",
    "d['population_density_per_sqmi']=minmax_scale(d['population_density_per_sqmi'])\n",
    "c['population_density_per_sqmi']=minmax_scale(c['population_density_per_sqmi'])"
   ]
  },
  {
   "cell_type": "code",
   "execution_count": 8,
   "metadata": {},
   "outputs": [],
   "source": [
    "cases.fillna(0,inplace=True)\n",
    "deaths.fillna(0,inplace=True)\n",
    "\n",
    "deaths_results_MAE = np.zeros(15)\n",
    "cases_results_MAE = np.zeros(15)\n",
    "\n",
    "deaths_results_RMSE = np.zeros(15)\n",
    "cases_results_RMSE = np.zeros(15)\n",
    "\n",
    "deaths_score = np.zeros(15)\n",
    "cases_score = np.zeros(15)"
   ]
  },
  {
   "cell_type": "code",
   "execution_count": 9,
   "metadata": {},
   "outputs": [],
   "source": [
    "x_date = date(2020,3,1)\n",
    "y_date = date(2020,3,29)\n",
    "delta = timedelta(days=14)\n",
    "\n",
    "for j in range (0,15):\n",
    "    \n",
    "    x_days = {x_date.strftime(\"%-m/%-d/%y\")}\n",
    "    for i in range(1,28):\n",
    "        s = x_date + timedelta(days=i)\n",
    "        x_days.add(s.strftime(\"%-m/%-d/%y\"))\n",
    "    y_days = {y_date.strftime(\"%-m/%-d/%y\")}\n",
    "    for i in range(1,14):\n",
    "        s = y_date + timedelta(days=i)\n",
    "        y_days.add(s.strftime(\"%-m/%-d/%y\"))\n",
    "       \n",
    "    x = deaths.filter(x_days)\n",
    "    y = deaths.filter(y_days)\n",
    "    \n",
    "    X_train, X_test, y_train, y_test = train_test_split(x,y,test_size=.2,random_state=42)\n",
    "    reg = MLPRegressor(random_state=1, max_iter=1600).fit(X_train,y_train)\n",
    "    deaths_results_MAE[j]=mean_absolute_error(y_test.astype(int),reg.predict(X_test).astype(int))\n",
    "    deaths_results_RMSE[j]=mean_squared_error(y_test.astype(int),reg.predict(X_test).astype(int),squared='False')\n",
    "    deaths_score[j] = r2_score(y_test,reg.predict(X_test))\n",
    "    x_date += delta\n",
    "    y_date += delta"
   ]
  },
  {
   "cell_type": "code",
   "execution_count": 10,
   "metadata": {},
   "outputs": [],
   "source": [
    "x_date = date(2020,3,1)\n",
    "y_date = date(2020,3,29)\n",
    "delta = timedelta(days=14)\n",
    "\n",
    "for j in range (0,15):\n",
    "    \n",
    "    x_days = {x_date.strftime(\"%-m/%-d/%y\")}\n",
    "    for i in range(1,28):\n",
    "        s = x_date + timedelta(days=i)\n",
    "        x_days.add(s.strftime(\"%-m/%-d/%y\"))\n",
    "    y_days = {y_date.strftime(\"%-m/%-d/%y\")}\n",
    "    for i in range(1,14):\n",
    "        s = y_date + timedelta(days=i)\n",
    "        y_days.add(s.strftime(\"%-m/%-d/%y\"))\n",
    "       \n",
    "    x = cases.filter(x_days)\n",
    "    y = cases.filter(y_days)\n",
    "    \n",
    "    X_train, X_test, y_train, y_test = train_test_split(x,y,test_size=.2,random_state=42)\n",
    "    reg = MLPRegressor(random_state=1, max_iter=1800).fit(X_train,y_train)\n",
    "    cases_results_MAE[j]=mean_absolute_error(y_test.astype(int),reg.predict(X_test).astype(int))\n",
    "    cases_results_RMSE[j]=mean_squared_error(y_test.astype(int),reg.predict(X_test).astype(int),squared='False')\n",
    "    cases_score[j] = r2_score(y_test,reg.predict(X_test))\n",
    "    x_date += delta\n",
    "    y_date += delta"
   ]
  },
  {
   "cell_type": "code",
   "execution_count": 24,
   "metadata": {},
   "outputs": [
    {
     "data": {
      "text/plain": [
       "[<matplotlib.lines.Line2D at 0x7ffadc6bb130>]"
      ]
     },
     "execution_count": 24,
     "metadata": {},
     "output_type": "execute_result"
    },
    {
     "data": {
      "image/png": "[encoded data removed]",
      "text/plain": [
       "<Figure size 432x288 with 1 Axes>"
      ]
     },
     "metadata": {
      "needs_background": "light"
     },
     "output_type": "display_data"
    }
   ],
   "source": [
    "x_axis = np.arange(0,15)\n",
    "plt.plot(x_axis,deaths_results_MAE,'bo')\n",
    "plt.plot(x_axis,deaths_results_RMSE,'go')\n",
    "plt.plot(x_axis,deaths_results_MAE*math.sqrt(len(x)),'ro')"
   ]
  },
  {
   "cell_type": "code",
   "execution_count": 25,
   "metadata": {},
   "outputs": [
    {
     "data": {
      "text/plain": [
       "[<matplotlib.lines.Line2D at 0x7ffadc616640>]"
      ]
     },
     "execution_count": 25,
     "metadata": {},
     "output_type": "execute_result"
    },
    {
     "data": {
      "image/png": "[encoded data removed]",
      "text/plain": [
       "<Figure size 432x288 with 1 Axes>"
      ]
     },
     "metadata": {
      "needs_background": "light"
     },
     "output_type": "display_data"
    }
   ],
   "source": [
    "import math\n",
    "plt.plot(x_axis,cases_results_MAE,'bo')\n",
    "plt.plot(x_axis,cases_results_RMSE,'go')\n",
    "plt.plot(x_axis,cases_results_MAE*math.sqrt(len(x)),'ro')"
   ]
  },
  {
   "cell_type": "code",
   "execution_count": 13,
   "metadata": {},
   "outputs": [
    {
     "data": {
      "text/plain": [
       "array([ 2931.25795531,  3258.18280298,  5816.00236967,  2927.0450237 ,\n",
       "        4257.64285714,  5950.58700068,  5352.08192282,  7969.53588355,\n",
       "        9580.13405552,  4063.75964794, 10660.49932295, 16895.25253893,\n",
       "       13886.46953284,  7512.39065674, 13653.93398781])"
      ]
     },
     "execution_count": 13,
     "metadata": {},
     "output_type": "execute_result"
    }
   ],
   "source": [
    "cases_results_RMSE"
   ]
  },
  {
   "cell_type": "code",
   "execution_count": 14,
   "metadata": {},
   "outputs": [
    {
     "data": {
      "text/plain": [
       "array([ 5.41841571, 14.47224103, 14.91503047, 12.64387271,  7.67366283,\n",
       "       12.09140149,  6.5802302 ,  8.8689912 , 11.10900474,  7.33852404,\n",
       "       10.05619499,  8.59140149,  9.11340555, 12.3943805 , 11.96987136])"
      ]
     },
     "execution_count": 14,
     "metadata": {},
     "output_type": "execute_result"
    }
   ],
   "source": [
    "deaths_results_RMSE"
   ]
  },
  {
   "cell_type": "code",
   "execution_count": 15,
   "metadata": {},
   "outputs": [
    {
     "data": {
      "text/plain": [
       "[<matplotlib.lines.Line2D at 0x7ffadc752d90>]"
      ]
     },
     "execution_count": 15,
     "metadata": {},
     "output_type": "execute_result"
    },
    {
     "data": {
      "image/png": "[encoded data removed]",
      "text/plain": [
       "<Figure size 432x288 with 1 Axes>"
      ]
     },
     "metadata": {
      "needs_background": "light"
     },
     "output_type": "display_data"
    }
   ],
   "source": [
    "plt.plot(x_axis,cases_score,'yo')\n",
    "plt.plot(x_axis,deaths_score,'ko')"
   ]
  },
  {
   "cell_type": "code",
   "execution_count": 16,
   "metadata": {},
   "outputs": [
    {
     "data": {
      "text/plain": [
       "array([0.90453622, 1.5859851 , 1.53859174, 1.58903182, 1.27014218,\n",
       "       1.352065  , 1.1563981 , 1.46682464, 1.84969533, 1.62085308,\n",
       "       1.80974949, 1.66316858, 1.81279621, 1.73493568, 2.11814489])"
      ]
     },
     "execution_count": 16,
     "metadata": {},
     "output_type": "execute_result"
    }
   ],
   "source": [
    "deaths_results_MAE"
   ]
  },
  {
   "cell_type": "code",
   "execution_count": 17,
   "metadata": {},
   "outputs": [
    {
     "data": {
      "text/plain": [
       "array([ 5.41841571, 14.47224103, 14.91503047, 12.64387271,  7.67366283,\n",
       "       12.09140149,  6.5802302 ,  8.8689912 , 11.10900474,  7.33852404,\n",
       "       10.05619499,  8.59140149,  9.11340555, 12.3943805 , 11.96987136])"
      ]
     },
     "execution_count": 17,
     "metadata": {},
     "output_type": "execute_result"
    }
   ],
   "source": [
    "deaths_results_RMSE"
   ]
  },
  {
   "cell_type": "code",
   "execution_count": 18,
   "metadata": {},
   "outputs": [
    {
     "data": {
      "text/plain": [
       "array([16.96885579, 22.55788761, 27.06939743, 23.59884902, 26.09918754,\n",
       "       30.72850372, 32.14218009, 45.86628301, 53.75084631, 39.89911984,\n",
       "       53.02200406, 65.86662153, 70.70379147, 53.03723764, 71.25084631])"
      ]
     },
     "execution_count": 18,
     "metadata": {},
     "output_type": "execute_result"
    }
   ],
   "source": [
    "cases_results_MAE"
   ]
  },
  {
   "cell_type": "code",
   "execution_count": 19,
   "metadata": {},
   "outputs": [
    {
     "data": {
      "text/plain": [
       "array([ 2931.25795531,  3258.18280298,  5816.00236967,  2927.0450237 ,\n",
       "        4257.64285714,  5950.58700068,  5352.08192282,  7969.53588355,\n",
       "        9580.13405552,  4063.75964794, 10660.49932295, 16895.25253893,\n",
       "       13886.46953284,  7512.39065674, 13653.93398781])"
      ]
     },
     "execution_count": 19,
     "metadata": {},
     "output_type": "execute_result"
    }
   ],
   "source": [
    "cases_results_RMSE"
   ]
  },
  {
   "cell_type": "code",
   "execution_count": 20,
   "metadata": {},
   "outputs": [
    {
     "data": {
      "text/plain": [
       "0.7327014218009479"
      ]
     },
     "execution_count": 20,
     "metadata": {},
     "output_type": "execute_result"
    }
   ],
   "source": [
    "deaths['4/1/20'].mean()"
   ]
  },
  {
   "cell_type": "code",
   "execution_count": 21,
   "metadata": {},
   "outputs": [
    {
     "data": {
      "text/plain": [
       "49.69668246445497"
      ]
     },
     "execution_count": 21,
     "metadata": {},
     "output_type": "execute_result"
    }
   ],
   "source": [
    "deaths['10/1/20'].mean()"
   ]
  },
  {
   "cell_type": "code",
   "execution_count": 22,
   "metadata": {},
   "outputs": [
    {
     "data": {
      "text/plain": [
       "array([0.82867821, 0.95104826, 0.96505294, 0.99003223, 0.98974341,\n",
       "       0.98810825, 0.99159345, 0.99128975, 0.99267064, 0.99762287,\n",
       "       0.99490278, 0.9929872 , 0.9949732 , 0.99763789, 0.99643056])"
      ]
     },
     "execution_count": 22,
     "metadata": {},
     "output_type": "execute_result"
    }
   ],
   "source": [
    "cases_score"
   ]
  },
  {
   "cell_type": "code",
   "execution_count": 23,
   "metadata": {},
   "outputs": [
    {
     "data": {
      "text/plain": [
       "array([0.73795463, 0.90189598, 0.96882164, 0.98662414, 0.99447043,\n",
       "       0.99321666, 0.99698541, 0.99638924, 0.99583417, 0.99713576,\n",
       "       0.99658953, 0.99743376, 0.99726491, 0.99657599, 0.99673072])"
      ]
     },
     "execution_count": 23,
     "metadata": {},
     "output_type": "execute_result"
    }
   ],
   "source": [
    "deaths_score"
   ]
  },
  {
   "cell_type": "code",
   "execution_count": null,
   "metadata": {},
   "outputs": [],
   "source": []
  }
 ],
 "metadata": {
  "kernelspec": {
   "display_name": "Python 3",
   "language": "python",
   "name": "python3"
  },
  "language_info": {
   "codemirror_mode": {
    "name": "ipython",
    "version": 3
   },
   "file_extension": ".py",
   "mimetype": "text/x-python",
   "name": "python",
   "nbconvert_exporter": "python",
   "pygments_lexer": "ipython3",
   "version": "3.8.5"
  }
 },
 "nbformat": 4,
 "nbformat_minor": 4
}
